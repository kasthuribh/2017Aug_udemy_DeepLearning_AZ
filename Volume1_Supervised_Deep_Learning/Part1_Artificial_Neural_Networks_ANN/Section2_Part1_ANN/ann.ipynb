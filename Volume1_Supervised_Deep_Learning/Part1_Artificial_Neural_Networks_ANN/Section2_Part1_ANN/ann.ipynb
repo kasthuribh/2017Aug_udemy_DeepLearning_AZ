{
 "cells": [
  {
   "cell_type": "code",
   "execution_count": 93,
   "metadata": {
    "collapsed": true
   },
   "outputs": [],
   "source": [
    "# Importing the libraries\n",
    "import numpy as np\n",
    "import matplotlib.pyplot as plt\n",
    "import pandas as pd"
   ]
  },
  {
   "cell_type": "code",
   "execution_count": 94,
   "metadata": {
    "collapsed": true
   },
   "outputs": [],
   "source": [
    "# Importing the dataset\n",
    "dataset = pd.read_csv('Churn_Modelling.csv')\n",
    "X = dataset.iloc[:, 3:13].values\n",
    "y = dataset.iloc[:, 13].values"
   ]
  },
  {
   "cell_type": "code",
   "execution_count": 95,
   "metadata": {
    "collapsed": true
   },
   "outputs": [],
   "source": [
    "# Encoding categorical data\n",
    "from sklearn.preprocessing import LabelEncoder, OneHotEncoder\n",
    "labelencoder_X_1 = LabelEncoder()\n",
    "X[:, 1] = labelencoder_X_1.fit_transform(X[:, 1])\n",
    "labelencoder_X_2 = LabelEncoder()\n",
    "X[:, 2] = labelencoder_X_2.fit_transform(X[:, 2])\n",
    "onehotencoder = OneHotEncoder(categorical_features = [1])\n",
    "X = onehotencoder.fit_transform(X).toarray()\n",
    "X=X[:,1:]"
   ]
  },
  {
   "cell_type": "code",
   "execution_count": 96,
   "metadata": {
    "collapsed": true
   },
   "outputs": [],
   "source": [
    "# Splitting the dataset into the Training set and Test set\n",
    "from sklearn.model_selection import train_test_split\n",
    "X_train, X_test, y_train, y_test = train_test_split(X, y, test_size = 0.2, random_state = 0)"
   ]
  },
  {
   "cell_type": "code",
   "execution_count": 97,
   "metadata": {
    "collapsed": true
   },
   "outputs": [],
   "source": [
    "# Feature Scaling\n",
    "from sklearn.preprocessing import StandardScaler\n",
    "sc = StandardScaler()\n",
    "X_train = sc.fit_transform(X_train)\n",
    "X_test = sc.transform(X_test)"
   ]
  },
  {
   "cell_type": "markdown",
   "metadata": {},
   "source": [
    "# Part 2 - Now let's make the ANN!"
   ]
  },
  {
   "cell_type": "code",
   "execution_count": 31,
   "metadata": {},
   "outputs": [],
   "source": [
    "# Importing the Keras libraries and packages\n",
    "import keras\n",
    "from keras.models import Sequential\n",
    "from keras.layers import Dense"
   ]
  },
  {
   "cell_type": "markdown",
   "metadata": {
    "collapsed": true
   },
   "source": [
    "## Initializing the ANN"
   ]
  },
  {
   "cell_type": "code",
   "execution_count": 32,
   "metadata": {
    "collapsed": true
   },
   "outputs": [],
   "source": [
    "#create the ANN that we will be using\n",
    "# It is a sequence of layers\n",
    "#we will be adding the layers later\n",
    "classifier = Sequential()"
   ]
  },
  {
   "cell_type": "code",
   "execution_count": 33,
   "metadata": {},
   "outputs": [],
   "source": [
    "#rectifier activation function will be used for the hidden layer\n",
    "#sigmoid activation function will be used for the output layer. This will provide probabilities, \n",
    "#which is useful in identyfying probability of something happening\n",
    "\n",
    "#no of nodes in the input layer = no of independent variables\n",
    "#no of nodes in the output layes, since this is a binary classification only one\n",
    "#no of nodes in the hidden layer is an art\n",
    "# initillay you can use the average of input layer and output layer\n",
    "\n",
    "#hidden layer\n",
    "#output_dim=no of nodes in the layer\n",
    "#initialization= initliaze the variable, uniform - random initialization\n",
    "#activation activation function (relu=rectifier)\n",
    "#input_dim since this is the very first layer we are adding we need to specify the no of nodes in the input layer\n",
    "#classifier.add(Dense(output_dim=6,init='uniform',activation='relu',input_dim=11))\n",
    "\n",
    "#adding the input layer and the first hidden layer\n",
    "classifier.add(Dense(kernel_initializer=\"uniform\", activation=\"relu\", input_dim=11, units=6))"
   ]
  },
  {
   "cell_type": "code",
   "execution_count": 34,
   "metadata": {
    "collapsed": true
   },
   "outputs": [],
   "source": [
    "#adding the second hidden layer\n",
    "classifier.add(Dense(kernel_initializer=\"uniform\", activation=\"relu\", units=6))"
   ]
  },
  {
   "cell_type": "code",
   "execution_count": 35,
   "metadata": {
    "collapsed": true
   },
   "outputs": [],
   "source": [
    "#adding the outputlayer\n",
    "classifier.add(Dense(kernel_initializer=\"uniform\", activation=\"sigmoid\", units=1))\n",
    "#if it is a muiti class classification we need to have units equal to that no. of classes (one hot encoded)\n",
    "#and activation function would be softmax"
   ]
  },
  {
   "cell_type": "code",
   "execution_count": 36,
   "metadata": {
    "collapsed": true
   },
   "outputs": [],
   "source": [
    "#compile the ANN\n",
    "#optimizer - algorithm to find the best weights.\n",
    "    #we will be using SGD. there are different variants. we will be using adam\n",
    "# loss loss function for the optimizer. since we are using sigmoid for the output we will be using logarithmic loss function\n",
    "# metrics - we will provide the accuracy matrix, evaluate the accuracy criteria. Models performance will be improved \n",
    "    #after each iteration based on the accuracy matrix \n",
    "classifier.compile(optimizer='adam', loss='binary_crossentropy' , metrics=['accuracy'])\n"
   ]
  },
  {
   "cell_type": "code",
   "execution_count": 37,
   "metadata": {},
   "outputs": [
    {
     "name": "stdout",
     "output_type": "stream",
     "text": [
      "Epoch 1/100\n",
      "8000/8000 [==============================] - 0s - loss: 0.5826 - acc: 0.7959     \n",
      "Epoch 2/100\n",
      "8000/8000 [==============================] - 0s - loss: 0.4407 - acc: 0.7960     \n",
      "Epoch 3/100\n",
      "8000/8000 [==============================] - 0s - loss: 0.4299 - acc: 0.7960     \n",
      "Epoch 4/100\n",
      "8000/8000 [==============================] - 0s - loss: 0.4245 - acc: 0.7960     \n",
      "Epoch 5/100\n",
      "8000/8000 [==============================] - 0s - loss: 0.4199 - acc: 0.8116     \n",
      "Epoch 6/100\n",
      "8000/8000 [==============================] - 0s - loss: 0.4159 - acc: 0.8280     \n",
      "Epoch 7/100\n",
      "8000/8000 [==============================] - 0s - loss: 0.4128 - acc: 0.8317     \n",
      "Epoch 8/100\n",
      "8000/8000 [==============================] - 0s - loss: 0.4102 - acc: 0.8316     \n",
      "Epoch 9/100\n",
      "8000/8000 [==============================] - 0s - loss: 0.4081 - acc: 0.8332     \n",
      "Epoch 10/100\n",
      "8000/8000 [==============================] - 0s - loss: 0.4064 - acc: 0.8351     \n",
      "Epoch 11/100\n",
      "8000/8000 [==============================] - 0s - loss: 0.4051 - acc: 0.8350     \n",
      "Epoch 12/100\n",
      "8000/8000 [==============================] - 0s - loss: 0.4038 - acc: 0.8363     \n",
      "Epoch 13/100\n",
      "8000/8000 [==============================] - 0s - loss: 0.4029 - acc: 0.8348     \n",
      "Epoch 14/100\n",
      "8000/8000 [==============================] - 0s - loss: 0.4025 - acc: 0.8364     \n",
      "Epoch 15/100\n",
      "8000/8000 [==============================] - 0s - loss: 0.4014 - acc: 0.8361     \n",
      "Epoch 16/100\n",
      "8000/8000 [==============================] - 0s - loss: 0.4005 - acc: 0.8344     \n",
      "Epoch 17/100\n",
      "8000/8000 [==============================] - 0s - loss: 0.3997 - acc: 0.8357     \n",
      "Epoch 18/100\n",
      "8000/8000 [==============================] - 0s - loss: 0.3990 - acc: 0.8356     \n",
      "Epoch 19/100\n",
      "8000/8000 [==============================] - 0s - loss: 0.3987 - acc: 0.8369     \n",
      "Epoch 20/100\n",
      "8000/8000 [==============================] - 0s - loss: 0.3984 - acc: 0.8367     \n",
      "Epoch 21/100\n",
      "8000/8000 [==============================] - 0s - loss: 0.3978 - acc: 0.8361     \n",
      "Epoch 22/100\n",
      "8000/8000 [==============================] - 0s - loss: 0.3974 - acc: 0.8353     \n",
      "Epoch 23/100\n",
      "8000/8000 [==============================] - 0s - loss: 0.3973 - acc: 0.8367     \n",
      "Epoch 24/100\n",
      "8000/8000 [==============================] - 0s - loss: 0.3967 - acc: 0.8353     \n",
      "Epoch 25/100\n",
      "8000/8000 [==============================] - 0s - loss: 0.3968 - acc: 0.8360     \n",
      "Epoch 26/100\n",
      "8000/8000 [==============================] - 0s - loss: 0.3961 - acc: 0.8370     \n",
      "Epoch 27/100\n",
      "8000/8000 [==============================] - 0s - loss: 0.3961 - acc: 0.8360     \n",
      "Epoch 28/100\n",
      "8000/8000 [==============================] - 0s - loss: 0.3959 - acc: 0.8360     \n",
      "Epoch 29/100\n",
      "8000/8000 [==============================] - 0s - loss: 0.3958 - acc: 0.8355     \n",
      "Epoch 30/100\n",
      "8000/8000 [==============================] - 0s - loss: 0.3953 - acc: 0.8346     \n",
      "Epoch 31/100\n",
      "8000/8000 [==============================] - 0s - loss: 0.3951 - acc: 0.8350     \n",
      "Epoch 32/100\n",
      "8000/8000 [==============================] - 0s - loss: 0.3950 - acc: 0.8360     \n",
      "Epoch 33/100\n",
      "8000/8000 [==============================] - 0s - loss: 0.3950 - acc: 0.8348     \n",
      "Epoch 34/100\n",
      "8000/8000 [==============================] - 0s - loss: 0.3947 - acc: 0.8363     \n",
      "Epoch 35/100\n",
      "8000/8000 [==============================] - 0s - loss: 0.3947 - acc: 0.8355     \n",
      "Epoch 36/100\n",
      "8000/8000 [==============================] - 0s - loss: 0.3942 - acc: 0.8357     \n",
      "Epoch 37/100\n",
      "8000/8000 [==============================] - 0s - loss: 0.3944 - acc: 0.8350     \n",
      "Epoch 38/100\n",
      "8000/8000 [==============================] - 0s - loss: 0.3938 - acc: 0.8366     \n",
      "Epoch 39/100\n",
      "8000/8000 [==============================] - 0s - loss: 0.3939 - acc: 0.8351     \n",
      "Epoch 40/100\n",
      "8000/8000 [==============================] - 0s - loss: 0.3939 - acc: 0.8355     \n",
      "Epoch 41/100\n",
      "8000/8000 [==============================] - 0s - loss: 0.3937 - acc: 0.8369     \n",
      "Epoch 42/100\n",
      "8000/8000 [==============================] - 0s - loss: 0.3937 - acc: 0.8367     \n",
      "Epoch 43/100\n",
      "8000/8000 [==============================] - 0s - loss: 0.3935 - acc: 0.8364     \n",
      "Epoch 44/100\n",
      "8000/8000 [==============================] - 0s - loss: 0.3935 - acc: 0.8356     \n",
      "Epoch 45/100\n",
      "8000/8000 [==============================] - 0s - loss: 0.3932 - acc: 0.8363     \n",
      "Epoch 46/100\n",
      "8000/8000 [==============================] - 0s - loss: 0.3932 - acc: 0.8361     \n",
      "Epoch 47/100\n",
      "8000/8000 [==============================] - 0s - loss: 0.3934 - acc: 0.8361     \n",
      "Epoch 48/100\n",
      "8000/8000 [==============================] - 0s - loss: 0.3933 - acc: 0.8363     \n",
      "Epoch 49/100\n",
      "8000/8000 [==============================] - 0s - loss: 0.3928 - acc: 0.8369     \n",
      "Epoch 50/100\n",
      "8000/8000 [==============================] - 0s - loss: 0.3930 - acc: 0.8377     \n",
      "Epoch 51/100\n",
      "8000/8000 [==============================] - 0s - loss: 0.3930 - acc: 0.8354     \n",
      "Epoch 52/100\n",
      "8000/8000 [==============================] - 0s - loss: 0.3928 - acc: 0.8371     \n",
      "Epoch 53/100\n",
      "8000/8000 [==============================] - 0s - loss: 0.3929 - acc: 0.8373     \n",
      "Epoch 54/100\n",
      "8000/8000 [==============================] - 0s - loss: 0.3928 - acc: 0.8354     \n",
      "Epoch 55/100\n",
      "8000/8000 [==============================] - 0s - loss: 0.3930 - acc: 0.8363     \n",
      "Epoch 56/100\n",
      "8000/8000 [==============================] - 0s - loss: 0.3930 - acc: 0.8359     \n",
      "Epoch 57/100\n",
      "8000/8000 [==============================] - 0s - loss: 0.3927 - acc: 0.8366     \n",
      "Epoch 58/100\n",
      "8000/8000 [==============================] - 0s - loss: 0.3928 - acc: 0.8361     \n",
      "Epoch 59/100\n",
      "8000/8000 [==============================] - 0s - loss: 0.3924 - acc: 0.8366     \n",
      "Epoch 60/100\n",
      "8000/8000 [==============================] - 0s - loss: 0.3928 - acc: 0.8366     \n",
      "Epoch 61/100\n",
      "8000/8000 [==============================] - 0s - loss: 0.3927 - acc: 0.8359     \n",
      "Epoch 62/100\n",
      "8000/8000 [==============================] - 0s - loss: 0.3927 - acc: 0.8371     \n",
      "Epoch 63/100\n",
      "8000/8000 [==============================] - 0s - loss: 0.3927 - acc: 0.8374     \n",
      "Epoch 64/100\n",
      "8000/8000 [==============================] - 0s - loss: 0.3924 - acc: 0.8360     \n",
      "Epoch 65/100\n",
      "8000/8000 [==============================] - 0s - loss: 0.3922 - acc: 0.8375     \n",
      "Epoch 66/100\n",
      "8000/8000 [==============================] - 0s - loss: 0.3927 - acc: 0.8371     \n",
      "Epoch 67/100\n",
      "8000/8000 [==============================] - 0s - loss: 0.3924 - acc: 0.8374     \n",
      "Epoch 68/100\n",
      "8000/8000 [==============================] - 0s - loss: 0.3922 - acc: 0.8377     \n",
      "Epoch 69/100\n",
      "8000/8000 [==============================] - 0s - loss: 0.3925 - acc: 0.8380     \n",
      "Epoch 70/100\n",
      "8000/8000 [==============================] - 0s - loss: 0.3927 - acc: 0.8369     \n",
      "Epoch 71/100\n",
      "8000/8000 [==============================] - 0s - loss: 0.3920 - acc: 0.8387     \n",
      "Epoch 72/100\n",
      "8000/8000 [==============================] - 0s - loss: 0.3914 - acc: 0.8382     \n",
      "Epoch 73/100\n",
      "8000/8000 [==============================] - 0s - loss: 0.3914 - acc: 0.8408     \n",
      "Epoch 74/100\n",
      "8000/8000 [==============================] - 0s - loss: 0.3912 - acc: 0.8396     \n",
      "Epoch 75/100\n",
      "8000/8000 [==============================] - 0s - loss: 0.3906 - acc: 0.8385     \n",
      "Epoch 76/100\n",
      "8000/8000 [==============================] - 0s - loss: 0.3901 - acc: 0.8392     \n",
      "Epoch 77/100\n",
      "8000/8000 [==============================] - 0s - loss: 0.3900 - acc: 0.8399     \n",
      "Epoch 78/100\n",
      "8000/8000 [==============================] - 0s - loss: 0.3892 - acc: 0.8397     \n",
      "Epoch 79/100\n",
      "8000/8000 [==============================] - 0s - loss: 0.3888 - acc: 0.8391     \n",
      "Epoch 80/100\n",
      "8000/8000 [==============================] - 0s - loss: 0.3883 - acc: 0.8404     \n",
      "Epoch 81/100\n",
      "8000/8000 [==============================] - 0s - loss: 0.3876 - acc: 0.8395     \n",
      "Epoch 82/100\n",
      "8000/8000 [==============================] - 0s - loss: 0.3864 - acc: 0.8424     \n",
      "Epoch 83/100\n",
      "8000/8000 [==============================] - 0s - loss: 0.3858 - acc: 0.8408     \n",
      "Epoch 84/100\n",
      "8000/8000 [==============================] - 0s - loss: 0.3841 - acc: 0.8401     \n",
      "Epoch 85/100\n",
      "8000/8000 [==============================] - 0s - loss: 0.3832 - acc: 0.8397     \n",
      "Epoch 86/100\n",
      "8000/8000 [==============================] - 0s - loss: 0.3809 - acc: 0.8379     \n",
      "Epoch 87/100\n"
     ]
    },
    {
     "name": "stdout",
     "output_type": "stream",
     "text": [
      "8000/8000 [==============================] - 0s - loss: 0.3786 - acc: 0.8396     \n",
      "Epoch 88/100\n",
      "8000/8000 [==============================] - 0s - loss: 0.3768 - acc: 0.8399     \n",
      "Epoch 89/100\n",
      "8000/8000 [==============================] - 0s - loss: 0.3750 - acc: 0.8394     \n",
      "Epoch 90/100\n",
      "8000/8000 [==============================] - 0s - loss: 0.3733 - acc: 0.8397     \n",
      "Epoch 91/100\n",
      "8000/8000 [==============================] - 0s - loss: 0.3719 - acc: 0.8421     \n",
      "Epoch 92/100\n",
      "8000/8000 [==============================] - 0s - loss: 0.3705 - acc: 0.8406     \n",
      "Epoch 93/100\n",
      "8000/8000 [==============================] - 0s - loss: 0.3688 - acc: 0.8415     \n",
      "Epoch 94/100\n",
      "8000/8000 [==============================] - 0s - loss: 0.3678 - acc: 0.8429     \n",
      "Epoch 95/100\n",
      "8000/8000 [==============================] - 0s - loss: 0.3664 - acc: 0.8430     \n",
      "Epoch 96/100\n",
      "8000/8000 [==============================] - 0s - loss: 0.3652 - acc: 0.8452     \n",
      "Epoch 97/100\n",
      "8000/8000 [==============================] - 0s - loss: 0.3643 - acc: 0.8480     \n",
      "Epoch 98/100\n",
      "8000/8000 [==============================] - 0s - loss: 0.3635 - acc: 0.8478     \n",
      "Epoch 99/100\n",
      "8000/8000 [==============================] - 0s - loss: 0.3626 - acc: 0.8476     \n",
      "Epoch 100/100\n",
      "8000/8000 [==============================] - 0s - loss: 0.3608 - acc: 0.8480     \n"
     ]
    },
    {
     "data": {
      "text/plain": [
       "<keras.callbacks.History at 0xa139c90>"
      ]
     },
     "execution_count": 37,
     "metadata": {},
     "output_type": "execute_result"
    }
   ],
   "source": [
    "#fitteing the ANN to the training set \n",
    "# we can coose to update weights after all the data or after mini batches\n",
    "#batch size - no of observations after which you wanna update the weights\n",
    "#epochs - no of iterations for training\n",
    "classifier.fit(X_train,y_train,batch_size=32, epochs=100)"
   ]
  },
  {
   "cell_type": "markdown",
   "metadata": {},
   "source": [
    "# Making predictions and evaluating the model"
   ]
  },
  {
   "cell_type": "code",
   "execution_count": 43,
   "metadata": {
    "collapsed": true
   },
   "outputs": [],
   "source": [
    "#predicting the test set results\n",
    "y_pred=classifier.predict(X_test)\n",
    "y_pred=(y_pred>0.5)"
   ]
  },
  {
   "cell_type": "code",
   "execution_count": 44,
   "metadata": {},
   "outputs": [],
   "source": [
    "#making the confusion matrix\n",
    "from sklearn.metrics import confusion_matrix\n",
    "cm=confusion_matrix(y_test, y_pred)"
   ]
  },
  {
   "cell_type": "code",
   "execution_count": 50,
   "metadata": {},
   "outputs": [
    {
     "data": {
      "text/plain": [
       "(1541, 54, 246, 159)"
      ]
     },
     "execution_count": 50,
     "metadata": {},
     "output_type": "execute_result"
    }
   ],
   "source": [
    "tn, fp, fn, tp = cm.ravel()\n",
    "tn,fp,fn,tp"
   ]
  },
  {
   "cell_type": "code",
   "execution_count": 52,
   "metadata": {},
   "outputs": [
    {
     "name": "stdout",
     "output_type": "stream",
     "text": [
      "accuracy= 0.85\n"
     ]
    }
   ],
   "source": [
    "print 'accuracy=',(1541+159)/2000.0"
   ]
  },
  {
   "cell_type": "code",
   "execution_count": 98,
   "metadata": {},
   "outputs": [],
   "source": [
    "#homework \n",
    "#create a horizontal vector [[]] , use two arrays\n",
    "#CreditScore,Geography,Gender,Age,Tenure,Balance,NumOfProducts,HasCrCard,IsActiveMember,EstimatedSalar\n",
    "new_cust=np.array([[0.0,0,600,1,40,3,60000,2,1,1,50000]])\n",
    "new_cust=sc.transform(new_cust)"
   ]
  },
  {
   "cell_type": "code",
   "execution_count": 101,
   "metadata": {},
   "outputs": [],
   "source": [
    "new_pred=classifier.predict(new_cust)"
   ]
  },
  {
   "cell_type": "code",
   "execution_count": 103,
   "metadata": {},
   "outputs": [
    {
     "data": {
      "text/plain": [
       "array([[ 0.05432015]], dtype=float32)"
      ]
     },
     "execution_count": 103,
     "metadata": {},
     "output_type": "execute_result"
    }
   ],
   "source": [
    "new_pred"
   ]
  },
  {
   "cell_type": "code",
   "execution_count": null,
   "metadata": {
    "collapsed": true
   },
   "outputs": [],
   "source": []
  }
 ],
 "metadata": {
  "kernelspec": {
   "display_name": "Python 2",
   "language": "python",
   "name": "python2"
  },
  "language_info": {
   "codemirror_mode": {
    "name": "ipython",
    "version": 2
   },
   "file_extension": ".py",
   "mimetype": "text/x-python",
   "name": "python",
   "nbconvert_exporter": "python",
   "pygments_lexer": "ipython2",
   "version": "2.7.5"
  }
 },
 "nbformat": 4,
 "nbformat_minor": 2
}
