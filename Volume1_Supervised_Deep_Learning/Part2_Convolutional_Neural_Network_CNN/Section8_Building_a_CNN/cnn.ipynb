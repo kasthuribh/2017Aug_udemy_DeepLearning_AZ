{
 "cells": [
  {
   "cell_type": "markdown",
   "metadata": {},
   "source": [
    "# Convolutional Neural Network"
   ]
  },
  {
   "cell_type": "markdown",
   "metadata": {},
   "source": [
    "# Part 1 - Building the CNN"
   ]
  },
  {
   "cell_type": "code",
   "execution_count": 13,
   "metadata": {
    "collapsed": true
   },
   "outputs": [],
   "source": [
    "#folder structure\n",
    "#dataset\n",
    "    #test_set\n",
    "        #cats\n",
    "        #dogs\n",
    "    #train_set\n",
    "        #cats\n",
    "        #dogs"
   ]
  },
  {
   "cell_type": "code",
   "execution_count": 14,
   "metadata": {},
   "outputs": [],
   "source": [
    "# Importing the Keras libraries and packages\n",
    "from keras.models import Sequential\n",
    "from keras.layers import Convolution2D\n",
    "from keras.layers import MaxPooling2D\n",
    "from keras.layers import Flatten\n",
    "from keras.layers import Dense"
   ]
  },
  {
   "cell_type": "code",
   "execution_count": 15,
   "metadata": {
    "collapsed": true
   },
   "outputs": [],
   "source": [
    "# Initialising the CNN\n",
    "classifier = Sequential()"
   ]
  },
  {
   "cell_type": "markdown",
   "metadata": {},
   "source": [
    "## step 1 : Convolution"
   ]
  },
  {
   "cell_type": "code",
   "execution_count": 16,
   "metadata": {
    "collapsed": true
   },
   "outputs": [],
   "source": [
    "# filters - no of feature detectors (filters,convolution kernel), for each filter, feature map will be created\n",
    "# kernel_size - no of rows and columns in the feature detector\n",
    "# strides - strides of the convolution along the width and height\n",
    "# input_shape - specify the expected format of our input images\n",
    "#  (rows, cols, no_of_channels), channels=3 since coloured images\n",
    "#activation - to remove linearity\n",
    "classifier.add(Convolution2D(filters=32, kernel_size=(3,3) , input_shape=(64,64,3), activation='relu' ))"
   ]
  },
  {
   "cell_type": "markdown",
   "metadata": {},
   "source": [
    "## Step 2 - Pooling"
   ]
  },
  {
   "cell_type": "code",
   "execution_count": 17,
   "metadata": {
    "collapsed": true
   },
   "outputs": [],
   "source": [
    "# pool_size - windows size, most of the time we use 2,2\n",
    "classifier.add(MaxPooling2D(pool_size=(2,2)))"
   ]
  },
  {
   "cell_type": "markdown",
   "metadata": {},
   "source": [
    "## adding another convolution layer"
   ]
  },
  {
   "cell_type": "code",
   "execution_count": 18,
   "metadata": {
    "collapsed": true
   },
   "outputs": [],
   "source": [
    "#adding another convolution layer\n",
    "# no need to define a input_layer since this is not the very first layer (Keras knows the input size)\n",
    "#here the input is the pooled feature maps from the above layer\n",
    "# in general filter size is dobled (64), but in this case 32 is enough\n",
    "classifier.add(Convolution2D(filters=32, kernel_size=(3,3) , activation='relu' ))"
   ]
  },
  {
   "cell_type": "markdown",
   "metadata": {},
   "source": [
    "## Step 3 - Flattening"
   ]
  },
  {
   "cell_type": "code",
   "execution_count": 19,
   "metadata": {
    "collapsed": true
   },
   "outputs": [],
   "source": [
    "# \n",
    "classifier.add(Flatten())"
   ]
  },
  {
   "cell_type": "markdown",
   "metadata": {},
   "source": [
    "## Step 4 - Full Connection"
   ]
  },
  {
   "cell_type": "code",
   "execution_count": 20,
   "metadata": {
    "collapsed": true
   },
   "outputs": [],
   "source": [
    "# we are addding the fully connected hidden layer\n",
    "#units - no of nodes in the hidden layer, should not be too small, power of 2 is generally used\n",
    "classifier.add(Dense(units=128, activation='relu' ))\n",
    "#output layer\n",
    "classifier.add(Dense(units=1, activation='sigmoid' ))"
   ]
  },
  {
   "cell_type": "code",
   "execution_count": 21,
   "metadata": {
    "collapsed": true
   },
   "outputs": [],
   "source": [
    "# compiling the CNN\n",
    "# if there are more than two classes use categorical cross entropy for the loss function\n",
    "classifier.compile(optimizer='adam', loss='binary_crossentropy' , metrics=['accuracy'])"
   ]
  },
  {
   "cell_type": "markdown",
   "metadata": {},
   "source": [
    "# Part 2 - Fitting the CNN to the images"
   ]
  },
  {
   "cell_type": "markdown",
   "metadata": {},
   "source": [
    "# preprocessing"
   ]
  },
  {
   "cell_type": "code",
   "execution_count": 22,
   "metadata": {
    "collapsed": true
   },
   "outputs": [],
   "source": [
    "# too few images -> overfitting, not able to find generalized patterns\n",
    "# we need to have many images or a trick - > image augmentation\n",
    "# image Augmentation - amount of training images are augmented (rotate, flip,...) to minimize overfitting\n",
    "\n",
    "# get the code from the Keras documentation , preprocesing -> image preprocessing, \n",
    "#                               Example of using .flow_from_directory(directory):"
   ]
  },
  {
   "cell_type": "code",
   "execution_count": 23,
   "metadata": {
    "collapsed": true
   },
   "outputs": [],
   "source": [
    "from keras.preprocessing.image import  ImageDataGenerator"
   ]
  },
  {
   "cell_type": "code",
   "execution_count": 24,
   "metadata": {},
   "outputs": [
    {
     "name": "stdout",
     "output_type": "stream",
     "text": [
      "Found 8000 images belonging to 2 classes.\n",
      "Found 2000 images belonging to 2 classes.\n"
     ]
    }
   ],
   "source": [
    "train_datagen = ImageDataGenerator(\n",
    "        rescale=1./255,\n",
    "        shear_range=0.2,\n",
    "        zoom_range=0.2,\n",
    "        horizontal_flip=True)\n",
    "\n",
    "test_datagen = ImageDataGenerator(rescale=1./255)\n",
    "\n",
    "training_set = train_datagen.flow_from_directory(\n",
    "        'dataset/training_set',\n",
    "        target_size=(64, 64),  #dimension expected by CNN\n",
    "        batch_size=32,\n",
    "        class_mode='binary')  #binary or more than 2\n",
    "\n",
    "test_set = test_datagen.flow_from_directory(\n",
    "        'dataset/test_set',\n",
    "        target_size=(64, 64),\n",
    "        batch_size=32,\n",
    "        class_mode='binary')"
   ]
  },
  {
   "cell_type": "code",
   "execution_count": 25,
   "metadata": {},
   "outputs": [
    {
     "name": "stdout",
     "output_type": "stream",
     "text": [
      "Epoch 1/25\n",
      "8000/8000 [==============================] - 1345s - loss: 0.3891 - acc: 0.8140 - val_loss: 0.5388 - val_acc: 0.8034\n",
      "Epoch 2/25\n",
      "8000/8000 [==============================] - 1333s - loss: 0.1747 - acc: 0.9287 - val_loss: 0.6864 - val_acc: 0.8103\n",
      "Epoch 3/25\n",
      "8000/8000 [==============================] - 1331s - loss: 0.1031 - acc: 0.9608 - val_loss: 0.8171 - val_acc: 0.8027\n",
      "Epoch 4/25\n",
      "8000/8000 [==============================] - 1334s - loss: 0.0759 - acc: 0.9719 - val_loss: 0.8924 - val_acc: 0.8038\n",
      "Epoch 5/25\n",
      "8000/8000 [==============================] - 1331s - loss: 0.0589 - acc: 0.9788 - val_loss: 1.0637 - val_acc: 0.8150\n",
      "Epoch 6/25\n",
      "8000/8000 [==============================] - 1330s - loss: 0.0495 - acc: 0.9827 - val_loss: 1.0499 - val_acc: 0.8021\n",
      "Epoch 7/25\n",
      "8000/8000 [==============================] - 1331s - loss: 0.0429 - acc: 0.9850 - val_loss: 1.1242 - val_acc: 0.8021\n",
      "Epoch 8/25\n",
      "8000/8000 [==============================] - 1331s - loss: 0.0377 - acc: 0.9873 - val_loss: 1.1056 - val_acc: 0.8108\n",
      "Epoch 9/25\n",
      "8000/8000 [==============================] - 1330s - loss: 0.0343 - acc: 0.9883 - val_loss: 1.1119 - val_acc: 0.8100\n",
      "Epoch 10/25\n",
      "8000/8000 [==============================] - 1332s - loss: 0.0307 - acc: 0.9895 - val_loss: 1.1568 - val_acc: 0.8042\n",
      "Epoch 11/25\n",
      "8000/8000 [==============================] - 1332s - loss: 0.0284 - acc: 0.9903 - val_loss: 1.1771 - val_acc: 0.8123\n",
      "Epoch 12/25\n",
      "8000/8000 [==============================] - 1333s - loss: 0.0260 - acc: 0.9913 - val_loss: 1.1788 - val_acc: 0.8101\n",
      "Epoch 13/25\n",
      "8000/8000 [==============================] - 1337s - loss: 0.0240 - acc: 0.9921 - val_loss: 1.1684 - val_acc: 0.8059\n",
      "Epoch 14/25\n",
      "8000/8000 [==============================] - 1340s - loss: 0.0235 - acc: 0.9920 - val_loss: 1.1644 - val_acc: 0.8089\n",
      "Epoch 15/25\n",
      "8000/8000 [==============================] - 1331s - loss: 0.0215 - acc: 0.9930 - val_loss: 1.2250 - val_acc: 0.8122\n",
      "Epoch 16/25\n",
      "8000/8000 [==============================] - 1332s - loss: 0.0200 - acc: 0.9934 - val_loss: 1.2744 - val_acc: 0.8131\n",
      "Epoch 17/25\n",
      "8000/8000 [==============================] - 1331s - loss: 0.0202 - acc: 0.9933 - val_loss: 1.3108 - val_acc: 0.8106\n",
      "Epoch 18/25\n",
      "8000/8000 [==============================] - 1331s - loss: 0.0190 - acc: 0.9939 - val_loss: 1.1996 - val_acc: 0.8071\n",
      "Epoch 19/25\n",
      "8000/8000 [==============================] - 1333s - loss: 0.0186 - acc: 0.9940 - val_loss: 1.2269 - val_acc: 0.8118\n",
      "Epoch 20/25\n",
      "8000/8000 [==============================] - 1352s - loss: 0.0179 - acc: 0.9940 - val_loss: 1.2853 - val_acc: 0.8074\n",
      "Epoch 21/25\n",
      "8000/8000 [==============================] - 1409s - loss: 0.0164 - acc: 0.9947 - val_loss: 1.3329 - val_acc: 0.7992\n",
      "Epoch 22/25\n",
      "8000/8000 [==============================] - 1404s - loss: 0.0164 - acc: 0.9948 - val_loss: 1.3440 - val_acc: 0.8094\n",
      "Epoch 23/25\n",
      "8000/8000 [==============================] - 1403s - loss: 0.0168 - acc: 0.9945 - val_loss: 1.3861 - val_acc: 0.8140\n",
      "Epoch 24/25\n",
      "8000/8000 [==============================] - 1403s - loss: 0.0156 - acc: 0.9950 - val_loss: 1.5006 - val_acc: 0.8099\n",
      "Epoch 25/25\n",
      "8000/8000 [==============================] - 1402s - loss: 0.0156 - acc: 0.9949 - val_loss: 1.4437 - val_acc: 0.8073\n"
     ]
    },
    {
     "data": {
      "text/plain": [
       "<keras.callbacks.History at 0x93dae90>"
      ]
     },
     "execution_count": 25,
     "metadata": {},
     "output_type": "execute_result"
    }
   ],
   "source": [
    "classifier.fit_generator(\n",
    "        training_set,\n",
    "        steps_per_epoch=8000, #all the observations passes through the CNN. thus no of images in the training set\n",
    "        epochs=25,\n",
    "        validation_data=test_set,\n",
    "        validation_steps=2000 # no of images in the test set\n",
    ")"
   ]
  },
  {
   "cell_type": "markdown",
   "metadata": {},
   "source": [
    "# Making new predictions"
   ]
  },
  {
   "cell_type": "code",
   "execution_count": 29,
   "metadata": {
    "collapsed": true
   },
   "outputs": [],
   "source": [
    "#making new predictions (single prediction)\n",
    "import numpy as np\n",
    "from keras.preprocessing import image"
   ]
  },
  {
   "cell_type": "code",
   "execution_count": 75,
   "metadata": {
    "collapsed": true
   },
   "outputs": [],
   "source": [
    "#read image\n",
    "file_name='''/home/cloudera/courses/2017Aug_udemy_DeepLearningAZ/Deep_Learning_AZ/Volume1_Supervised_Deep_Learning/Part2_Convolutional_Neural_Network_CNN/Section8_Building_a_CNN/dataset/single_prediction/cat_or_dog_2.jpg'''\n",
    "test_image=image.load_img(file_name, target_size=(64,64))"
   ]
  },
  {
   "cell_type": "code",
   "execution_count": 76,
   "metadata": {},
   "outputs": [
    {
     "data": {
      "image/png": "[encoded data removed]",
      "text/plain": [
       "<PIL.Image.Image image mode=RGB size=64x64 at 0x8FD7F90>"
      ]
     },
     "execution_count": 76,
     "metadata": {},
     "output_type": "execute_result"
    }
   ],
   "source": [
    "test_image"
   ]
  },
  {
   "cell_type": "code",
   "execution_count": 77,
   "metadata": {},
   "outputs": [],
   "source": [
    "#image to array to get 3D array as our input layer\n",
    "test_image=image.img_to_array(test_image)"
   ]
  },
  {
   "cell_type": "code",
   "execution_count": 78,
   "metadata": {},
   "outputs": [
    {
     "data": {
      "text/plain": [
       "(64, 64, 3)"
      ]
     },
     "execution_count": 78,
     "metadata": {},
     "output_type": "execute_result"
    }
   ],
   "source": [
    "test_image.shape"
   ]
  },
  {
   "cell_type": "code",
   "execution_count": 79,
   "metadata": {
    "collapsed": true
   },
   "outputs": [],
   "source": [
    "# prediction inputs take inputs in batches. \n",
    "#Thus there shoud be 04 dimensions to the input, including dimension to store batch information\n",
    "#input expects this new dimension as the first index, axis=0\n",
    "test_image=np.expand_dims(test_image,axis=0)"
   ]
  },
  {
   "cell_type": "code",
   "execution_count": 80,
   "metadata": {},
   "outputs": [
    {
     "data": {
      "text/plain": [
       "(1, 64, 64, 3)"
      ]
     },
     "execution_count": 80,
     "metadata": {},
     "output_type": "execute_result"
    }
   ],
   "source": [
    "test_image.shape"
   ]
  },
  {
   "cell_type": "code",
   "execution_count": 81,
   "metadata": {
    "collapsed": true
   },
   "outputs": [],
   "source": [
    "result=classifier.predict(test_image)"
   ]
  },
  {
   "cell_type": "code",
   "execution_count": 82,
   "metadata": {},
   "outputs": [
    {
     "data": {
      "text/plain": [
       "array([[ 1.]], dtype=float32)"
      ]
     },
     "execution_count": 82,
     "metadata": {},
     "output_type": "execute_result"
    }
   ],
   "source": [
    "result"
   ]
  },
  {
   "cell_type": "code",
   "execution_count": 83,
   "metadata": {},
   "outputs": [
    {
     "data": {
      "text/plain": [
       "{'cats': 0, 'dogs': 1}"
      ]
     },
     "execution_count": 83,
     "metadata": {},
     "output_type": "execute_result"
    }
   ],
   "source": [
    "# does 1 corresponds to cat or dog?\n",
    "training_set.class_indices"
   ]
  },
  {
   "cell_type": "code",
   "execution_count": 84,
   "metadata": {},
   "outputs": [
    {
     "name": "stdout",
     "output_type": "stream",
     "text": [
      "Dog\n"
     ]
    }
   ],
   "source": [
    "if result[0][0]==1:\n",
    "    print 'Dog'\n",
    "else:\n",
    "    print 'Cat'"
   ]
  },
  {
   "cell_type": "code",
   "execution_count": null,
   "metadata": {
    "collapsed": true
   },
   "outputs": [],
   "source": []
  }
 ],
 "metadata": {
  "kernelspec": {
   "display_name": "Python 2",
   "language": "python",
   "name": "python2"
  },
  "language_info": {
   "codemirror_mode": {
    "name": "ipython",
    "version": 2
   },
   "file_extension": ".py",
   "mimetype": "text/x-python",
   "name": "python",
   "nbconvert_exporter": "python",
   "pygments_lexer": "ipython2",
   "version": "2.7.5"
  }
 },
 "nbformat": 4,
 "nbformat_minor": 2
}
