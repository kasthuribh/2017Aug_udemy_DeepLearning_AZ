{
 "cells": [
  {
   "cell_type": "markdown",
   "metadata": {},
   "source": [
    "# Convolutional Neural Network"
   ]
  },
  {
   "cell_type": "markdown",
   "metadata": {},
   "source": [
    "# Part 1 - Building the CNN"
   ]
  },
  {
   "cell_type": "code",
   "execution_count": 13,
   "metadata": {
    "collapsed": true
   },
   "outputs": [],
   "source": [
    "#folder structure\n",
    "#dataset\n",
    "    #test_set\n",
    "        #cats\n",
    "        #dogs\n",
    "    #train_set\n",
    "        #cats\n",
    "        #dogs"
   ]
  },
  {
   "cell_type": "code",
   "execution_count": 3,
   "metadata": {
    "collapsed": true
   },
   "outputs": [],
   "source": [
    "# Importing the Keras libraries and packages\n",
    "from keras.models import Sequential\n",
    "from keras.layers import Convolution2D,MaxPooling2D,Flatten,Dense,Dropout\n",
    "from keras.optimizers import Adam\n",
    "from keras.preprocessing.image import ImageDataGenerator"
   ]
  },
  {
   "cell_type": "code",
   "execution_count": 19,
   "metadata": {
    "collapsed": true
   },
   "outputs": [],
   "source": [
    "# Image dimensions\n",
    "img_width,img_height=64,64"
   ]
  },
  {
   "cell_type": "code",
   "execution_count": 51,
   "metadata": {
    "collapsed": true
   },
   "outputs": [],
   "source": [
    "def create_model(p,input_shape=(32,32,3)):\n",
    "    # Initialising the CNN\n",
    "    classifier = Sequential()\n",
    "    #Convolution + Pooling Layer\n",
    "    classifier.add(Convolution2D(filters=32,kernel_size=(3,3), padding=\"same\" , input_shape=input_shape, activation='relu' ))\n",
    "    classifier.add(MaxPooling2D(pool_size=(2,2)))\n",
    "    #Convolution + Pooling Layer\n",
    "    classifier.add(Convolution2D(filters=32,kernel_size=(3,3), padding=\"same\" ,  activation='relu' ))\n",
    "    classifier.add(MaxPooling2D(pool_size=(2,2)))\n",
    "    #Convolution + Pooling Layer\n",
    "    classifier.add(Convolution2D(filters=64,kernel_size=(3,3), padding=\"same\" , activation='relu' ))\n",
    "    classifier.add(MaxPooling2D(pool_size=(2,2)))\n",
    "    #Convolution + Pooling Layer\n",
    "    classifier.add(Convolution2D(filters=64,kernel_size=(3,3), padding=\"same\" , activation='relu' ))\n",
    "    classifier.add(MaxPooling2D(pool_size=(2,2)))\n",
    "    \n",
    "    #Flattening \n",
    "    classifier.add(Flatten())\n",
    "    \n",
    "    #Fully Connection\n",
    "    classifier.add(Dense(units=64, activation='relu' ))\n",
    "    classifier.add(Dropout(p))\n",
    "    classifier.add(Dense(units=64, activation='relu' ))\n",
    "    classifier.add(Dropout(p/2))\n",
    "    classifier.add(Dense(units=64, activation='relu' ))\n",
    "    #output layer\n",
    "    classifier.add(Dense(units=1, activation='sigmoid' ))\n",
    "    \n",
    "    # Compiling the CNN\n",
    "    optimizer = Adam(lr=1e-3)\n",
    "    metrics=['accuracy']\n",
    "    classifier.compile(optimizer=optimizer, loss='binary_crossentropy' , metrics=metrics)\n",
    "    return classifier"
   ]
  },
  {
   "cell_type": "code",
   "execution_count": 72,
   "metadata": {
    "collapsed": true
   },
   "outputs": [],
   "source": [
    "def run_training(batch_size=32,epochs=10):\n",
    "    train_datagen = ImageDataGenerator(\n",
    "        rescale=1./255,\n",
    "        shear_range=0.2,\n",
    "        zoom_range=0.2,\n",
    "        horizontal_flip=True)\n",
    "\n",
    "    test_datagen = ImageDataGenerator(rescale=1./255)\n",
    "\n",
    "    training_set = train_datagen.flow_from_directory(\n",
    "        'dataset/training_set',\n",
    "        target_size=(img_width, img_height),  #dimension expected by CNN\n",
    "        batch_size=batch_size,\n",
    "        class_mode='binary')  #binary or more than 2\n",
    "\n",
    "    test_set = test_datagen.flow_from_directory(\n",
    "        'dataset/test_set',\n",
    "        target_size=(img_width, img_height),\n",
    "        batch_size=batch_size,\n",
    "        class_mode='binary')\n",
    "    \n",
    "    classifier=create_model(p=0.6,input_shape=(img_width,image_height,3))\n",
    "    classifier.fit_generator(\n",
    "        training_set,\n",
    "        steps_per_epoch=8000/batch_size, \n",
    "        epochs=epochs,\n",
    "        validation_data=test_set,\n",
    "        validation_steps=2000/batch_size,\n",
    "        workers=12,\n",
    "        max_q_size=100\n",
    "    )\n",
    "    return classifier"
   ]
  },
  {
   "cell_type": "code",
   "execution_count": 73,
   "metadata": {},
   "outputs": [
    {
     "name": "stdout",
     "output_type": "stream",
     "text": [
      "Found 8000 images belonging to 2 classes.\n",
      "Found 2000 images belonging to 2 classes.\n"
     ]
    },
    {
     "name": "stderr",
     "output_type": "stream",
     "text": [
      "/home/cloudera/virtualenv/python27/lib/python2.7/site-packages/ipykernel_launcher.py:30: UserWarning: Update your `fit_generator` call to the Keras 2 API: `fit_generator(<keras.pre..., workers=12, validation_data=<keras.pre..., steps_per_epoch=250, epochs=100, max_queue_size=100, validation_steps=62)`\n"
     ]
    },
    {
     "name": "stdout",
     "output_type": "stream",
     "text": [
      "Epoch 1/100\n",
      "250/250 [==============================] - 39s - loss: 0.6941 - acc: 0.4859 - val_loss: 0.6931 - val_acc: 0.5010\n",
      "Epoch 2/100\n",
      "250/250 [==============================] - 36s - loss: 0.6934 - acc: 0.4964 - val_loss: 0.6931 - val_acc: 0.5071\n",
      "Epoch 3/100\n",
      "250/250 [==============================] - 37s - loss: 0.6924 - acc: 0.5115 - val_loss: 0.6856 - val_acc: 0.5432\n",
      "Epoch 4/100\n",
      "250/250 [==============================] - 36s - loss: 0.6935 - acc: 0.5042 - val_loss: 0.6930 - val_acc: 0.5020\n",
      "Epoch 5/100\n",
      "250/250 [==============================] - 36s - loss: 0.6931 - acc: 0.5217 - val_loss: 0.6889 - val_acc: 0.5737\n",
      "Epoch 6/100\n",
      "250/250 [==============================] - 36s - loss: 0.6844 - acc: 0.5581 - val_loss: 0.6824 - val_acc: 0.5462\n",
      "Epoch 7/100\n",
      "250/250 [==============================] - 36s - loss: 0.6635 - acc: 0.5964 - val_loss: 0.6374 - val_acc: 0.6408\n",
      "Epoch 8/100\n",
      "250/250 [==============================] - 37s - loss: 0.6440 - acc: 0.6370 - val_loss: 0.6254 - val_acc: 0.6611\n",
      "Epoch 9/100\n",
      "250/250 [==============================] - 36s - loss: 0.6135 - acc: 0.6691 - val_loss: 0.5751 - val_acc: 0.7167\n",
      "Epoch 10/100\n",
      "250/250 [==============================] - 36s - loss: 0.5947 - acc: 0.6892 - val_loss: 0.5607 - val_acc: 0.7231\n",
      "Epoch 11/100\n",
      "250/250 [==============================] - 35s - loss: 0.5631 - acc: 0.7140 - val_loss: 0.5571 - val_acc: 0.7093\n",
      "Epoch 12/100\n",
      "250/250 [==============================] - 35s - loss: 0.5375 - acc: 0.7316 - val_loss: 0.5208 - val_acc: 0.7551\n",
      "Epoch 13/100\n",
      "250/250 [==============================] - 35s - loss: 0.5237 - acc: 0.7484 - val_loss: 0.4971 - val_acc: 0.7683\n",
      "Epoch 14/100\n",
      "250/250 [==============================] - 35s - loss: 0.5056 - acc: 0.7536 - val_loss: 0.4906 - val_acc: 0.7805\n",
      "Epoch 15/100\n",
      "250/250 [==============================] - 35s - loss: 0.4983 - acc: 0.7659 - val_loss: 0.4798 - val_acc: 0.7764\n",
      "Epoch 16/100\n",
      "250/250 [==============================] - 35s - loss: 0.4970 - acc: 0.7610 - val_loss: 0.4933 - val_acc: 0.7769\n",
      "Epoch 17/100\n",
      "250/250 [==============================] - 35s - loss: 0.4712 - acc: 0.7823 - val_loss: 0.4614 - val_acc: 0.7812\n",
      "Epoch 18/100\n",
      "250/250 [==============================] - 36s - loss: 0.4809 - acc: 0.7744 - val_loss: 0.4523 - val_acc: 0.8018\n",
      "Epoch 19/100\n",
      "250/250 [==============================] - 35s - loss: 0.4650 - acc: 0.7842 - val_loss: 0.4539 - val_acc: 0.7851\n",
      "Epoch 20/100\n",
      "250/250 [==============================] - 35s - loss: 0.4539 - acc: 0.7910 - val_loss: 0.4348 - val_acc: 0.8049\n",
      "Epoch 21/100\n",
      "250/250 [==============================] - 35s - loss: 0.4486 - acc: 0.7908 - val_loss: 0.4349 - val_acc: 0.7917\n",
      "Epoch 22/100\n",
      "250/250 [==============================] - 35s - loss: 0.4542 - acc: 0.7884 - val_loss: 0.4322 - val_acc: 0.7973\n",
      "Epoch 23/100\n",
      "250/250 [==============================] - 35s - loss: 0.4428 - acc: 0.7985 - val_loss: 0.4615 - val_acc: 0.7688\n",
      "Epoch 24/100\n",
      "250/250 [==============================] - 35s - loss: 0.4346 - acc: 0.7988 - val_loss: 0.4302 - val_acc: 0.7901\n",
      "Epoch 25/100\n",
      "250/250 [==============================] - 35s - loss: 0.4299 - acc: 0.8080 - val_loss: 0.4355 - val_acc: 0.8130\n",
      "Epoch 26/100\n",
      "250/250 [==============================] - 35s - loss: 0.4240 - acc: 0.8055 - val_loss: 0.4255 - val_acc: 0.8018\n",
      "Epoch 27/100\n",
      "250/250 [==============================] - 35s - loss: 0.4249 - acc: 0.8073 - val_loss: 0.4259 - val_acc: 0.8181\n",
      "Epoch 28/100\n",
      "250/250 [==============================] - 35s - loss: 0.4107 - acc: 0.8125 - val_loss: 0.4078 - val_acc: 0.8196\n",
      "Epoch 29/100\n",
      "250/250 [==============================] - 35s - loss: 0.4054 - acc: 0.8176 - val_loss: 0.3964 - val_acc: 0.8303\n",
      "Epoch 30/100\n",
      "250/250 [==============================] - 35s - loss: 0.4085 - acc: 0.8175 - val_loss: 0.4091 - val_acc: 0.8140\n",
      "Epoch 31/100\n",
      "250/250 [==============================] - 35s - loss: 0.3971 - acc: 0.8254 - val_loss: 0.3956 - val_acc: 0.8232\n",
      "Epoch 32/100\n",
      "250/250 [==============================] - 35s - loss: 0.3977 - acc: 0.8217 - val_loss: 0.4023 - val_acc: 0.8130\n",
      "Epoch 33/100\n",
      "250/250 [==============================] - 35s - loss: 0.3848 - acc: 0.8326 - val_loss: 0.3918 - val_acc: 0.8277\n",
      "Epoch 34/100\n",
      "250/250 [==============================] - 36s - loss: 0.3848 - acc: 0.8276 - val_loss: 0.3800 - val_acc: 0.8272\n",
      "Epoch 35/100\n",
      "250/250 [==============================] - 35s - loss: 0.3862 - acc: 0.8291 - val_loss: 0.4373 - val_acc: 0.7927\n",
      "Epoch 36/100\n",
      "250/250 [==============================] - 36s - loss: 0.3763 - acc: 0.8339 - val_loss: 0.3854 - val_acc: 0.8333\n",
      "Epoch 37/100\n",
      "250/250 [==============================] - 35s - loss: 0.3706 - acc: 0.8386 - val_loss: 0.3916 - val_acc: 0.8379\n",
      "Epoch 38/100\n",
      "250/250 [==============================] - 35s - loss: 0.3688 - acc: 0.8382 - val_loss: 0.3752 - val_acc: 0.8417\n",
      "Epoch 39/100\n",
      "250/250 [==============================] - 35s - loss: 0.3625 - acc: 0.8404 - val_loss: 0.3698 - val_acc: 0.8432\n",
      "Epoch 40/100\n",
      "250/250 [==============================] - 35s - loss: 0.3523 - acc: 0.8439 - val_loss: 0.3801 - val_acc: 0.8333\n",
      "Epoch 41/100\n",
      "250/250 [==============================] - 35s - loss: 0.3535 - acc: 0.8494 - val_loss: 0.3774 - val_acc: 0.8349\n",
      "Epoch 42/100\n",
      "250/250 [==============================] - 35s - loss: 0.3460 - acc: 0.8521 - val_loss: 0.3682 - val_acc: 0.8349\n",
      "Epoch 43/100\n",
      "250/250 [==============================] - 35s - loss: 0.3456 - acc: 0.8519 - val_loss: 0.4141 - val_acc: 0.8115\n",
      "Epoch 44/100\n",
      "250/250 [==============================] - 35s - loss: 0.3446 - acc: 0.8493 - val_loss: 0.3849 - val_acc: 0.8394\n",
      "Epoch 45/100\n",
      "250/250 [==============================] - 35s - loss: 0.3435 - acc: 0.8522 - val_loss: 0.3672 - val_acc: 0.8415\n",
      "Epoch 46/100\n",
      "250/250 [==============================] - 35s - loss: 0.3472 - acc: 0.8489 - val_loss: 0.3729 - val_acc: 0.8450\n",
      "Epoch 47/100\n",
      "250/250 [==============================] - 35s - loss: 0.3388 - acc: 0.8515 - val_loss: 0.3782 - val_acc: 0.8304\n",
      "Epoch 48/100\n",
      "250/250 [==============================] - 35s - loss: 0.3306 - acc: 0.8559 - val_loss: 0.3639 - val_acc: 0.8410\n",
      "Epoch 49/100\n",
      "250/250 [==============================] - 35s - loss: 0.3292 - acc: 0.8621 - val_loss: 0.3588 - val_acc: 0.8384\n",
      "Epoch 50/100\n",
      "250/250 [==============================] - 36s - loss: 0.3267 - acc: 0.8579 - val_loss: 0.3499 - val_acc: 0.8450\n",
      "Epoch 51/100\n",
      "250/250 [==============================] - 35s - loss: 0.3127 - acc: 0.8676 - val_loss: 0.3928 - val_acc: 0.8242\n",
      "Epoch 52/100\n",
      "250/250 [==============================] - 36s - loss: 0.3240 - acc: 0.8584 - val_loss: 0.3798 - val_acc: 0.8303\n",
      "Epoch 53/100\n",
      "250/250 [==============================] - 35s - loss: 0.3149 - acc: 0.8670 - val_loss: 0.3475 - val_acc: 0.8526\n",
      "Epoch 54/100\n",
      "250/250 [==============================] - 35s - loss: 0.3122 - acc: 0.8630 - val_loss: 0.3509 - val_acc: 0.8481\n",
      "Epoch 55/100\n",
      "250/250 [==============================] - 35s - loss: 0.3155 - acc: 0.8654 - val_loss: 0.3666 - val_acc: 0.8384\n",
      "Epoch 56/100\n",
      "250/250 [==============================] - 35s - loss: 0.3160 - acc: 0.8650 - val_loss: 0.3519 - val_acc: 0.8455\n",
      "Epoch 57/100\n",
      "250/250 [==============================] - 35s - loss: 0.3099 - acc: 0.8668 - val_loss: 0.3611 - val_acc: 0.8445\n",
      "Epoch 58/100\n",
      "250/250 [==============================] - 35s - loss: 0.3032 - acc: 0.8686 - val_loss: 0.3370 - val_acc: 0.8555\n",
      "Epoch 59/100\n",
      "250/250 [==============================] - 35s - loss: 0.2958 - acc: 0.8738 - val_loss: 0.3509 - val_acc: 0.8455\n",
      "Epoch 60/100\n",
      "250/250 [==============================] - 36s - loss: 0.2972 - acc: 0.8734 - val_loss: 0.3519 - val_acc: 0.8481\n",
      "Epoch 61/100\n",
      "250/250 [==============================] - 35s - loss: 0.2961 - acc: 0.8740 - val_loss: 0.3298 - val_acc: 0.8567\n",
      "Epoch 62/100\n",
      "250/250 [==============================] - 35s - loss: 0.2955 - acc: 0.8769 - val_loss: 0.3430 - val_acc: 0.8521\n",
      "Epoch 63/100\n",
      "250/250 [==============================] - 35s - loss: 0.2828 - acc: 0.8832 - val_loss: 0.3686 - val_acc: 0.8338\n",
      "Epoch 64/100\n",
      "250/250 [==============================] - 35s - loss: 0.2842 - acc: 0.8818 - val_loss: 0.3521 - val_acc: 0.8460\n",
      "Epoch 65/100\n",
      "250/250 [==============================] - 35s - loss: 0.2812 - acc: 0.8842 - val_loss: 0.3536 - val_acc: 0.8450\n",
      "Epoch 66/100\n"
     ]
    },
    {
     "name": "stdout",
     "output_type": "stream",
     "text": [
      "250/250 [==============================] - 35s - loss: 0.2867 - acc: 0.8766 - val_loss: 0.3194 - val_acc: 0.8669\n",
      "Epoch 67/100\n",
      "250/250 [==============================] - 36s - loss: 0.2829 - acc: 0.8800 - val_loss: 0.3380 - val_acc: 0.8476\n",
      "Epoch 68/100\n",
      "250/250 [==============================] - 35s - loss: 0.2817 - acc: 0.8812 - val_loss: 0.3325 - val_acc: 0.8603\n",
      "Epoch 69/100\n",
      "250/250 [==============================] - 35s - loss: 0.2719 - acc: 0.8826 - val_loss: 0.3324 - val_acc: 0.8633\n",
      "Epoch 70/100\n",
      "250/250 [==============================] - 35s - loss: 0.2707 - acc: 0.8869 - val_loss: 0.3330 - val_acc: 0.8598\n",
      "Epoch 71/100\n",
      "250/250 [==============================] - 35s - loss: 0.2686 - acc: 0.8862 - val_loss: 0.3233 - val_acc: 0.8577\n",
      "Epoch 72/100\n",
      "250/250 [==============================] - 35s - loss: 0.2725 - acc: 0.8848 - val_loss: 0.3318 - val_acc: 0.8603\n",
      "Epoch 73/100\n",
      "250/250 [==============================] - 35s - loss: 0.2665 - acc: 0.8918 - val_loss: 0.3334 - val_acc: 0.8435\n",
      "Epoch 74/100\n",
      "250/250 [==============================] - 35s - loss: 0.2746 - acc: 0.8809 - val_loss: 0.3230 - val_acc: 0.8582\n",
      "Epoch 75/100\n",
      "250/250 [==============================] - 35s - loss: 0.2626 - acc: 0.8885 - val_loss: 0.3131 - val_acc: 0.8694\n",
      "Epoch 76/100\n",
      "250/250 [==============================] - 35s - loss: 0.2695 - acc: 0.8854 - val_loss: 0.2961 - val_acc: 0.8720\n",
      "Epoch 77/100\n",
      "250/250 [==============================] - 36s - loss: 0.2480 - acc: 0.8971 - val_loss: 0.3213 - val_acc: 0.8633\n",
      "Epoch 78/100\n",
      "250/250 [==============================] - 35s - loss: 0.2535 - acc: 0.8951 - val_loss: 0.3159 - val_acc: 0.8577\n",
      "Epoch 79/100\n",
      "250/250 [==============================] - 36s - loss: 0.2648 - acc: 0.8875 - val_loss: 0.3496 - val_acc: 0.8333\n",
      "Epoch 80/100\n",
      "250/250 [==============================] - 37s - loss: 0.2616 - acc: 0.8910 - val_loss: 0.3141 - val_acc: 0.8679\n",
      "Epoch 81/100\n",
      "250/250 [==============================] - 38s - loss: 0.2435 - acc: 0.8971 - val_loss: 0.3177 - val_acc: 0.8598\n",
      "Epoch 82/100\n",
      "250/250 [==============================] - 37s - loss: 0.2485 - acc: 0.8957 - val_loss: 0.3247 - val_acc: 0.8567\n",
      "Epoch 83/100\n",
      "250/250 [==============================] - 36s - loss: 0.2510 - acc: 0.8899 - val_loss: 0.3141 - val_acc: 0.8664\n",
      "Epoch 84/100\n",
      "250/250 [==============================] - 37s - loss: 0.2533 - acc: 0.8934 - val_loss: 0.3630 - val_acc: 0.8318\n",
      "Epoch 85/100\n",
      "250/250 [==============================] - 36s - loss: 0.2531 - acc: 0.8982 - val_loss: 0.3169 - val_acc: 0.8699\n",
      "Epoch 86/100\n",
      "250/250 [==============================] - 36s - loss: 0.2457 - acc: 0.8979 - val_loss: 0.3222 - val_acc: 0.8765\n",
      "Epoch 87/100\n",
      "250/250 [==============================] - 36s - loss: 0.2496 - acc: 0.8947 - val_loss: 0.3213 - val_acc: 0.8613\n",
      "Epoch 88/100\n",
      "250/250 [==============================] - 36s - loss: 0.2418 - acc: 0.8978 - val_loss: 0.3215 - val_acc: 0.8694\n",
      "Epoch 89/100\n",
      "250/250 [==============================] - 36s - loss: 0.2436 - acc: 0.8978 - val_loss: 0.3177 - val_acc: 0.8612\n",
      "Epoch 90/100\n",
      "250/250 [==============================] - 36s - loss: 0.2426 - acc: 0.8979 - val_loss: 0.3496 - val_acc: 0.8458\n",
      "Epoch 91/100\n",
      "250/250 [==============================] - 36s - loss: 0.2456 - acc: 0.8966 - val_loss: 0.3166 - val_acc: 0.8591\n",
      "Epoch 92/100\n",
      "250/250 [==============================] - 35s - loss: 0.2366 - acc: 0.9054 - val_loss: 0.3019 - val_acc: 0.8765\n",
      "Epoch 93/100\n",
      "250/250 [==============================] - 35s - loss: 0.2399 - acc: 0.9030 - val_loss: 0.3226 - val_acc: 0.8618\n",
      "Epoch 94/100\n",
      "250/250 [==============================] - 35s - loss: 0.2311 - acc: 0.9017 - val_loss: 0.3153 - val_acc: 0.8618\n",
      "Epoch 95/100\n",
      "250/250 [==============================] - 36s - loss: 0.2268 - acc: 0.9060 - val_loss: 0.2987 - val_acc: 0.8775\n",
      "Epoch 96/100\n",
      "250/250 [==============================] - 35s - loss: 0.2362 - acc: 0.9000 - val_loss: 0.3331 - val_acc: 0.8586\n",
      "Epoch 97/100\n",
      "250/250 [==============================] - 36s - loss: 0.2284 - acc: 0.9049 - val_loss: 0.3237 - val_acc: 0.8664\n",
      "Epoch 98/100\n",
      "250/250 [==============================] - 35s - loss: 0.2382 - acc: 0.9011 - val_loss: 0.3123 - val_acc: 0.8669\n",
      "Epoch 99/100\n",
      "250/250 [==============================] - 35s - loss: 0.2239 - acc: 0.9069 - val_loss: 0.3280 - val_acc: 0.8587\n",
      "Epoch 100/100\n",
      "250/250 [==============================] - 36s - loss: 0.2289 - acc: 0.9064 - val_loss: 0.3013 - val_acc: 0.8689\n"
     ]
    }
   ],
   "source": [
    "model=run_training(batch_size=32,epochs=100)"
   ]
  },
  {
   "cell_type": "code",
   "execution_count": null,
   "metadata": {
    "collapsed": true
   },
   "outputs": [],
   "source": [
    "#0.8628 - val_loss: 0.3107 - val_acc: 0.8669\n"
   ]
  },
  {
   "cell_type": "markdown",
   "metadata": {},
   "source": [
    "# Making new predictions"
   ]
  },
  {
   "cell_type": "code",
   "execution_count": 74,
   "metadata": {
    "collapsed": true
   },
   "outputs": [],
   "source": [
    "#making new predictions (single prediction)\n",
    "import numpy as np\n",
    "from keras.preprocessing import image"
   ]
  },
  {
   "cell_type": "code",
   "execution_count": 75,
   "metadata": {
    "collapsed": true
   },
   "outputs": [],
   "source": [
    "#read image\n",
    "file_name='''/home/cloudera/courses/2017Aug_udemy_DeepLearningAZ/Deep_Learning_AZ/Volume1_Supervised_Deep_Learning/Part2_Convolutional_Neural_Network_CNN/Section8_Building_a_CNN/dataset/single_prediction/cat_or_dog_2.jpg'''\n",
    "test_image=image.load_img(file_name, target_size=(64,64))"
   ]
  },
  {
   "cell_type": "code",
   "execution_count": 76,
   "metadata": {},
   "outputs": [
    {
     "data": {
      "image/png": "[encoded data removed]",
      "text/plain": [
       "<PIL.Image.Image image mode=RGB size=64x64 at 0x7F930C07DED0>"
      ]
     },
     "execution_count": 76,
     "metadata": {},
     "output_type": "execute_result"
    }
   ],
   "source": [
    "test_image"
   ]
  },
  {
   "cell_type": "code",
   "execution_count": 65,
   "metadata": {
    "collapsed": true
   },
   "outputs": [],
   "source": [
    "#image to array to get 3D array as our input layer\n",
    "test_image=image.img_to_array(test_image)"
   ]
  },
  {
   "cell_type": "code",
   "execution_count": 66,
   "metadata": {},
   "outputs": [
    {
     "data": {
      "text/plain": [
       "(64, 64, 3)"
      ]
     },
     "execution_count": 66,
     "metadata": {},
     "output_type": "execute_result"
    }
   ],
   "source": [
    "test_image.shape"
   ]
  },
  {
   "cell_type": "code",
   "execution_count": 67,
   "metadata": {
    "collapsed": true
   },
   "outputs": [],
   "source": [
    "# prediction inputs take inputs in batches. \n",
    "#Thus there shoud be 04 dimensions to the input, including dimension to store batch information\n",
    "#input expects this new dimension as the first index, axis=0\n",
    "test_image=np.expand_dims(test_image,axis=0)"
   ]
  },
  {
   "cell_type": "code",
   "execution_count": 68,
   "metadata": {},
   "outputs": [
    {
     "data": {
      "text/plain": [
       "(1, 64, 64, 3)"
      ]
     },
     "execution_count": 68,
     "metadata": {},
     "output_type": "execute_result"
    }
   ],
   "source": [
    "test_image.shape"
   ]
  },
  {
   "cell_type": "code",
   "execution_count": 69,
   "metadata": {
    "collapsed": true
   },
   "outputs": [],
   "source": [
    "result=model.predict(test_image)"
   ]
  },
  {
   "cell_type": "code",
   "execution_count": 70,
   "metadata": {},
   "outputs": [
    {
     "data": {
      "text/plain": [
       "array([[ 1.]], dtype=float32)"
      ]
     },
     "execution_count": 70,
     "metadata": {},
     "output_type": "execute_result"
    }
   ],
   "source": [
    "result"
   ]
  },
  {
   "cell_type": "code",
   "execution_count": 71,
   "metadata": {},
   "outputs": [
    {
     "ename": "NameError",
     "evalue": "name 'training_set' is not defined",
     "output_type": "error",
     "traceback": [
      "\u001b[0;31m---------------------------------------------------------------------------\u001b[0m",
      "\u001b[0;31mNameError\u001b[0m                                 Traceback (most recent call last)",
      "\u001b[0;32m<ipython-input-71-dc11608986d2>\u001b[0m in \u001b[0;36m<module>\u001b[0;34m()\u001b[0m\n\u001b[1;32m      1\u001b[0m \u001b[0;31m# does 1 corresponds to cat or dog?\u001b[0m\u001b[0;34m\u001b[0m\u001b[0;34m\u001b[0m\u001b[0m\n\u001b[0;32m----> 2\u001b[0;31m \u001b[0mtraining_set\u001b[0m\u001b[0;34m.\u001b[0m\u001b[0mclass_indices\u001b[0m\u001b[0;34m\u001b[0m\u001b[0m\n\u001b[0m",
      "\u001b[0;31mNameError\u001b[0m: name 'training_set' is not defined"
     ]
    }
   ],
   "source": [
    "# does 1 corresponds to cat or dog?\n",
    "training_set.class_indices"
   ]
  },
  {
   "cell_type": "code",
   "execution_count": 84,
   "metadata": {},
   "outputs": [
    {
     "name": "stdout",
     "output_type": "stream",
     "text": [
      "Dog\n"
     ]
    }
   ],
   "source": [
    "if result[0][0]==1:\n",
    "    print 'Dog'\n",
    "else:\n",
    "    print 'Cat'"
   ]
  },
  {
   "cell_type": "code",
   "execution_count": null,
   "metadata": {
    "collapsed": true
   },
   "outputs": [],
   "source": []
  }
 ],
 "metadata": {
  "kernelspec": {
   "display_name": "Python 2",
   "language": "python",
   "name": "python2"
  },
  "language_info": {
   "codemirror_mode": {
    "name": "ipython",
    "version": 2
   },
   "file_extension": ".py",
   "mimetype": "text/x-python",
   "name": "python",
   "nbconvert_exporter": "python",
   "pygments_lexer": "ipython2",
   "version": "2.7.5"
  }
 },
 "nbformat": 4,
 "nbformat_minor": 2
}
