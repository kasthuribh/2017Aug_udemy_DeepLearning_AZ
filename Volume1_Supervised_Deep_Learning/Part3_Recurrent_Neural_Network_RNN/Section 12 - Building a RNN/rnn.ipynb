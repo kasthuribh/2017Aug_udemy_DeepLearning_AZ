{
 "cells": [
  {
   "cell_type": "markdown",
   "metadata": {},
   "source": [
    "# Part 1 - Data Processing"
   ]
  },
  {
   "cell_type": "code",
   "execution_count": 1,
   "metadata": {
    "collapsed": true
   },
   "outputs": [],
   "source": [
    "#import the libraries\n",
    "import numpy as np\n",
    "import matplotlib.pyplot as plt\n",
    "import pandas as pd"
   ]
  },
  {
   "cell_type": "code",
   "execution_count": 7,
   "metadata": {
    "collapsed": true
   },
   "outputs": [],
   "source": [
    "#Importing the training set\n",
    "training_set=pd.read_csv('Google_Stock_Price_Train.csv')"
   ]
  },
  {
   "cell_type": "code",
   "execution_count": 8,
   "metadata": {
    "collapsed": true
   },
   "outputs": [],
   "source": [
    "#we will be predicting the opening price\n",
    "#just read the column index 1, and since we need a matrix 1:2\n",
    "training_set=training_set.iloc[:,1:2].values"
   ]
  },
  {
   "cell_type": "code",
   "execution_count": 9,
   "metadata": {
    "collapsed": true
   },
   "outputs": [],
   "source": [
    "#Feature Scaling\n",
    "from sklearn.preprocessing import MinMaxScaler\n",
    "sc=MinMaxScaler()\n",
    "training_set=sc.fit_transform(training_set)"
   ]
  },
  {
   "cell_type": "code",
   "execution_count": 13,
   "metadata": {
    "collapsed": true
   },
   "outputs": [],
   "source": [
    "#getting the inputs and the outputs\n",
    "#we will be predicting the stock price at time t+1, given the stock price at time t\n",
    "X_train = training_set[0:1257] # all the stock prices except last one\n",
    "y_train = training_set[1:1258] # predictions,shift the locations by 1"
   ]
  },
  {
   "cell_type": "code",
   "execution_count": 14,
   "metadata": {
    "collapsed": true
   },
   "outputs": [],
   "source": [
    "# Reshaping\n",
    "#changing the format to a 3D array to store time step\n",
    "#why we need reshaping? keras expects a 3d array, refer doc.\n",
    "# no of observations, timestep, features\n",
    "X_train=np.reshape(X_train,(1257,1,1))"
   ]
  },
  {
   "cell_type": "markdown",
   "metadata": {},
   "source": [
    "# Part 2 - Buidling the RNN"
   ]
  },
  {
   "cell_type": "code",
   "execution_count": 19,
   "metadata": {
    "collapsed": true
   },
   "outputs": [],
   "source": [
    "# Importing libraries\n",
    "from keras.models import Sequential\n",
    "from keras.layers import Dense,LSTM"
   ]
  },
  {
   "cell_type": "code",
   "execution_count": 20,
   "metadata": {
    "collapsed": true
   },
   "outputs": [],
   "source": [
    "# Initialising the RNN\n",
    "regressor = Sequential()"
   ]
  },
  {
   "cell_type": "code",
   "execution_count": 21,
   "metadata": {
    "collapsed": true
   },
   "outputs": [],
   "source": [
    "# Adding the input layer and the LSTM layer\n",
    "#units -> no of memory units\n",
    "#input_shape -> (timestep,no of features) , None= any timestap\n",
    "regressor.add(LSTM(units=4,input_shape= (None,1),activation='sigmoid' ))"
   ]
  },
  {
   "cell_type": "code",
   "execution_count": 22,
   "metadata": {
    "collapsed": true
   },
   "outputs": [],
   "source": [
    "#adding the output layer\n",
    "regressor.add(Dense(units=1))"
   ]
  },
  {
   "cell_type": "code",
   "execution_count": 23,
   "metadata": {
    "collapsed": true
   },
   "outputs": [],
   "source": [
    "#compiling the RNN"
   ]
  },
  {
   "cell_type": "code",
   "execution_count": 24,
   "metadata": {
    "collapsed": true
   },
   "outputs": [],
   "source": [
    "#optimizer, most of the cases rmsprop is recommended with RNN\n",
    "#loss, eince we are performing a regression, mean squared error\n",
    "regressor.compile(optimizer='adam', loss='mean_squared_error')"
   ]
  },
  {
   "cell_type": "code",
   "execution_count": 25,
   "metadata": {},
   "outputs": [
    {
     "name": "stdout",
     "output_type": "stream",
     "text": [
      "Epoch 1/200\n",
      "1257/1257 [==============================] - 0s - loss: 0.1219     \n",
      "Epoch 2/200\n",
      "1257/1257 [==============================] - 0s - loss: 0.0860     \n",
      "Epoch 3/200\n",
      "1257/1257 [==============================] - 0s - loss: 0.0708     \n",
      "Epoch 4/200\n",
      "1257/1257 [==============================] - 0s - loss: 0.0654     \n",
      "Epoch 5/200\n",
      "1257/1257 [==============================] - 0s - loss: 0.0631     \n",
      "Epoch 6/200\n",
      "1257/1257 [==============================] - 0s - loss: 0.0613     \n",
      "Epoch 7/200\n",
      "1257/1257 [==============================] - 0s - loss: 0.0597     \n",
      "Epoch 8/200\n",
      "1257/1257 [==============================] - 0s - loss: 0.0579     \n",
      "Epoch 9/200\n",
      "1257/1257 [==============================] - 0s - loss: 0.0561     \n",
      "Epoch 10/200\n",
      "1257/1257 [==============================] - 0s - loss: 0.0542     \n",
      "Epoch 11/200\n",
      "1257/1257 [==============================] - 0s - loss: 0.0523     \n",
      "Epoch 12/200\n",
      "1257/1257 [==============================] - 0s - loss: 0.0503     \n",
      "Epoch 13/200\n",
      "1257/1257 [==============================] - 0s - loss: 0.0483     \n",
      "Epoch 14/200\n",
      "1257/1257 [==============================] - 0s - loss: 0.0463     \n",
      "Epoch 15/200\n",
      "1257/1257 [==============================] - 0s - loss: 0.0443     \n",
      "Epoch 16/200\n",
      "1257/1257 [==============================] - 0s - loss: 0.0422     \n",
      "Epoch 17/200\n",
      "1257/1257 [==============================] - 0s - loss: 0.0401     \n",
      "Epoch 18/200\n",
      "1257/1257 [==============================] - 0s - loss: 0.0380     \n",
      "Epoch 19/200\n",
      "1257/1257 [==============================] - 0s - loss: 0.0359     \n",
      "Epoch 20/200\n",
      "1257/1257 [==============================] - 0s - loss: 0.0338     \n",
      "Epoch 21/200\n",
      "1257/1257 [==============================] - 0s - loss: 0.0317     \n",
      "Epoch 22/200\n",
      "1257/1257 [==============================] - 0s - loss: 0.0296     \n",
      "Epoch 23/200\n",
      "1257/1257 [==============================] - 0s - loss: 0.0275     \n",
      "Epoch 24/200\n",
      "1257/1257 [==============================] - 0s - loss: 0.0255     \n",
      "Epoch 25/200\n",
      "1257/1257 [==============================] - 0s - loss: 0.0235     \n",
      "Epoch 26/200\n",
      "1257/1257 [==============================] - 0s - loss: 0.0216     \n",
      "Epoch 27/200\n",
      "1257/1257 [==============================] - 0s - loss: 0.0198     \n",
      "Epoch 28/200\n",
      "1257/1257 [==============================] - 0s - loss: 0.0180     \n",
      "Epoch 29/200\n",
      "1257/1257 [==============================] - 0s - loss: 0.0163     \n",
      "Epoch 30/200\n",
      "1257/1257 [==============================] - 0s - loss: 0.0147     \n",
      "Epoch 31/200\n",
      "1257/1257 [==============================] - 0s - loss: 0.0131     \n",
      "Epoch 32/200\n",
      "1257/1257 [==============================] - 0s - loss: 0.0117     \n",
      "Epoch 33/200\n",
      "1257/1257 [==============================] - 0s - loss: 0.0103     \n",
      "Epoch 34/200\n",
      "1257/1257 [==============================] - 0s - loss: 0.0091     \n",
      "Epoch 35/200\n",
      "1257/1257 [==============================] - 0s - loss: 0.0079     \n",
      "Epoch 36/200\n",
      "1257/1257 [==============================] - 0s - loss: 0.0069     \n",
      "Epoch 37/200\n",
      "1257/1257 [==============================] - 0s - loss: 0.0059     \n",
      "Epoch 38/200\n",
      "1257/1257 [==============================] - 0s - loss: 0.0051     \n",
      "Epoch 39/200\n",
      "1257/1257 [==============================] - 0s - loss: 0.0043     \n",
      "Epoch 40/200\n",
      "1257/1257 [==============================] - 0s - loss: 0.0037     \n",
      "Epoch 41/200\n",
      "1257/1257 [==============================] - 0s - loss: 0.0031     \n",
      "Epoch 42/200\n",
      "1257/1257 [==============================] - 0s - loss: 0.0026     \n",
      "Epoch 43/200\n",
      "1257/1257 [==============================] - 0s - loss: 0.0022     \n",
      "Epoch 44/200\n",
      "1257/1257 [==============================] - 0s - loss: 0.0018     \n",
      "Epoch 45/200\n",
      "1257/1257 [==============================] - 0s - loss: 0.0015     \n",
      "Epoch 46/200\n",
      "1257/1257 [==============================] - 0s - loss: 0.0012     \n",
      "Epoch 47/200\n",
      "1257/1257 [==============================] - 0s - loss: 0.0010     \n",
      "Epoch 48/200\n",
      "1257/1257 [==============================] - 0s - loss: 8.5755e-04     \n",
      "Epoch 49/200\n",
      "1257/1257 [==============================] - 0s - loss: 7.2162e-04     \n",
      "Epoch 50/200\n",
      "1257/1257 [==============================] - 0s - loss: 6.1123e-04     \n",
      "Epoch 51/200\n",
      "1257/1257 [==============================] - 0s - loss: 5.2445e-04     \n",
      "Epoch 52/200\n",
      "1257/1257 [==============================] - 0s - loss: 4.5622e-04     \n",
      "Epoch 53/200\n",
      "1257/1257 [==============================] - 0s - loss: 4.0317e-04     \n",
      "Epoch 54/200\n",
      "1257/1257 [==============================] - 0s - loss: 3.6308e-04     \n",
      "Epoch 55/200\n",
      "1257/1257 [==============================] - 0s - loss: 3.3199e-04     \n",
      "Epoch 56/200\n",
      "1257/1257 [==============================] - 0s - loss: 3.0971e-04     \n",
      "Epoch 57/200\n",
      "1257/1257 [==============================] - 0s - loss: 2.9153e-04     \n",
      "Epoch 58/200\n",
      "1257/1257 [==============================] - 0s - loss: 2.7939e-04     \n",
      "Epoch 59/200\n",
      "1257/1257 [==============================] - 0s - loss: 2.7030e-04     \n",
      "Epoch 60/200\n",
      "1257/1257 [==============================] - 0s - loss: 2.6303e-04     \n",
      "Epoch 61/200\n",
      "1257/1257 [==============================] - 0s - loss: 2.5795e-04     \n",
      "Epoch 62/200\n",
      "1257/1257 [==============================] - 0s - loss: 2.5473e-04     \n",
      "Epoch 63/200\n",
      "1257/1257 [==============================] - 0s - loss: 2.5275e-04     \n",
      "Epoch 64/200\n",
      "1257/1257 [==============================] - 0s - loss: 2.5146e-04     \n",
      "Epoch 65/200\n",
      "1257/1257 [==============================] - 0s - loss: 2.5025e-04     \n",
      "Epoch 66/200\n",
      "1257/1257 [==============================] - 0s - loss: 2.4944e-04     \n",
      "Epoch 67/200\n",
      "1257/1257 [==============================] - 0s - loss: 2.4828e-04     \n",
      "Epoch 68/200\n",
      "1257/1257 [==============================] - 0s - loss: 2.4934e-04     \n",
      "Epoch 69/200\n",
      "1257/1257 [==============================] - 0s - loss: 2.4813e-04     \n",
      "Epoch 70/200\n",
      "1257/1257 [==============================] - 0s - loss: 2.4934e-04     \n",
      "Epoch 71/200\n",
      "1257/1257 [==============================] - 0s - loss: 2.4784e-04     \n",
      "Epoch 72/200\n",
      "1257/1257 [==============================] - 0s - loss: 2.4725e-04     \n",
      "Epoch 73/200\n",
      "1257/1257 [==============================] - 0s - loss: 2.4838e-04     \n",
      "Epoch 74/200\n",
      "1257/1257 [==============================] - 0s - loss: 2.4704e-04     \n",
      "Epoch 75/200\n",
      "1257/1257 [==============================] - 0s - loss: 2.4808e-04     \n",
      "Epoch 76/200\n",
      "1257/1257 [==============================] - 0s - loss: 2.4823e-04     \n",
      "Epoch 77/200\n",
      "1257/1257 [==============================] - 0s - loss: 2.4702e-04     \n",
      "Epoch 78/200\n",
      "1257/1257 [==============================] - 0s - loss: 2.4745e-04     \n",
      "Epoch 79/200\n",
      "1257/1257 [==============================] - 0s - loss: 2.4674e-04     \n",
      "Epoch 80/200\n",
      "1257/1257 [==============================] - 0s - loss: 2.4731e-04     \n",
      "Epoch 81/200\n",
      "1257/1257 [==============================] - 0s - loss: 2.4780e-04     \n",
      "Epoch 82/200\n",
      "1257/1257 [==============================] - 0s - loss: 2.4840e-04     \n",
      "Epoch 83/200\n",
      "1257/1257 [==============================] - 0s - loss: 2.4821e-04     \n",
      "Epoch 84/200\n",
      "1257/1257 [==============================] - 0s - loss: 2.4752e-04     \n",
      "Epoch 85/200\n",
      "1257/1257 [==============================] - 0s - loss: 2.4678e-04     \n",
      "Epoch 86/200\n",
      "1257/1257 [==============================] - 0s - loss: 2.4839e-04     \n",
      "Epoch 87/200\n",
      "1257/1257 [==============================] - 0s - loss: 2.4805e-04     \n",
      "Epoch 88/200\n",
      "1257/1257 [==============================] - 0s - loss: 2.4866e-04     \n",
      "Epoch 89/200\n",
      "1257/1257 [==============================] - 0s - loss: 2.4809e-04     \n",
      "Epoch 90/200\n",
      "1257/1257 [==============================] - 0s - loss: 2.4856e-04     \n",
      "Epoch 91/200\n",
      "1257/1257 [==============================] - 0s - loss: 2.4684e-04     \n",
      "Epoch 92/200\n",
      "1257/1257 [==============================] - 0s - loss: 2.4761e-04     \n",
      "Epoch 93/200\n",
      "1257/1257 [==============================] - 0s - loss: 2.4868e-04     \n",
      "Epoch 94/200\n",
      "1257/1257 [==============================] - 0s - loss: 2.4755e-04     \n",
      "Epoch 95/200\n",
      "1257/1257 [==============================] - 0s - loss: 2.5050e-04     \n",
      "Epoch 96/200\n",
      "1257/1257 [==============================] - 0s - loss: 2.5049e-04     \n",
      "Epoch 97/200\n",
      "1257/1257 [==============================] - 0s - loss: 2.4744e-04     \n",
      "Epoch 98/200\n",
      "1257/1257 [==============================] - 0s - loss: 2.4739e-04     \n",
      "Epoch 99/200\n",
      "1257/1257 [==============================] - 0s - loss: 2.4980e-04     \n",
      "Epoch 100/200\n",
      "1257/1257 [==============================] - 0s - loss: 2.5008e-04     \n",
      "Epoch 101/200\n",
      "1257/1257 [==============================] - 0s - loss: 2.4770e-04     \n",
      "Epoch 102/200\n",
      "1257/1257 [==============================] - 0s - loss: 2.4699e-04     \n",
      "Epoch 103/200\n",
      "1257/1257 [==============================] - 0s - loss: 2.4778e-04     \n",
      "Epoch 104/200\n",
      "1257/1257 [==============================] - 0s - loss: 2.4739e-04     \n",
      "Epoch 105/200\n",
      "1257/1257 [==============================] - 0s - loss: 2.4858e-04     \n",
      "Epoch 106/200\n",
      "1257/1257 [==============================] - 0s - loss: 2.5200e-04     \n",
      "Epoch 107/200\n",
      "1257/1257 [==============================] - 0s - loss: 2.4764e-04     \n",
      "Epoch 108/200\n",
      "1257/1257 [==============================] - 0s - loss: 2.4769e-04     \n",
      "Epoch 109/200\n",
      "1257/1257 [==============================] - 0s - loss: 2.4977e-04     \n",
      "Epoch 110/200\n",
      "1257/1257 [==============================] - 0s - loss: 2.4985e-04     \n",
      "Epoch 111/200\n",
      "1257/1257 [==============================] - 0s - loss: 2.4740e-04     \n",
      "Epoch 112/200\n",
      "1257/1257 [==============================] - 0s - loss: 2.4805e-04     \n",
      "Epoch 113/200\n",
      "1257/1257 [==============================] - 0s - loss: 2.4845e-04     \n",
      "Epoch 114/200\n",
      "1257/1257 [==============================] - 0s - loss: 2.4758e-04     \n",
      "Epoch 115/200\n",
      "1257/1257 [==============================] - 0s - loss: 2.4771e-04     \n",
      "Epoch 116/200\n",
      "1257/1257 [==============================] - 0s - loss: 2.4838e-04     \n",
      "Epoch 117/200\n",
      "1257/1257 [==============================] - 0s - loss: 2.4780e-04     \n",
      "Epoch 118/200\n",
      "1257/1257 [==============================] - 0s - loss: 2.4862e-04     \n",
      "Epoch 119/200\n",
      "1257/1257 [==============================] - 0s - loss: 2.4774e-04     \n",
      "Epoch 120/200\n",
      "1257/1257 [==============================] - 0s - loss: 2.4907e-04     \n",
      "Epoch 121/200\n",
      "1257/1257 [==============================] - 0s - loss: 2.5045e-04     \n",
      "Epoch 122/200\n",
      "1257/1257 [==============================] - 0s - loss: 2.4985e-04     \n",
      "Epoch 123/200\n",
      "1257/1257 [==============================] - 0s - loss: 2.4673e-04     \n",
      "Epoch 124/200\n",
      "1257/1257 [==============================] - 0s - loss: 2.4659e-04     \n",
      "Epoch 125/200\n",
      "1257/1257 [==============================] - 0s - loss: 2.4730e-04     \n",
      "Epoch 126/200\n",
      "1257/1257 [==============================] - 0s - loss: 2.4769e-04     \n",
      "Epoch 127/200\n",
      "1257/1257 [==============================] - 0s - loss: 2.4857e-04     \n",
      "Epoch 128/200\n",
      "1257/1257 [==============================] - 0s - loss: 2.4822e-04     \n",
      "Epoch 129/200\n",
      "1257/1257 [==============================] - 0s - loss: 2.4758e-04     \n",
      "Epoch 130/200\n",
      "1257/1257 [==============================] - 0s - loss: 2.4919e-04     \n",
      "Epoch 131/200\n",
      "1257/1257 [==============================] - 0s - loss: 2.4976e-04     \n",
      "Epoch 132/200\n",
      "1257/1257 [==============================] - 0s - loss: 2.4687e-04     \n",
      "Epoch 133/200\n",
      "1257/1257 [==============================] - 0s - loss: 2.4827e-04     \n",
      "Epoch 134/200\n",
      "1257/1257 [==============================] - 0s - loss: 2.4812e-04     \n",
      "Epoch 135/200\n",
      "1257/1257 [==============================] - 0s - loss: 2.4668e-04     \n",
      "Epoch 136/200\n",
      "1257/1257 [==============================] - 0s - loss: 2.4755e-04     \n",
      "Epoch 137/200\n",
      "1257/1257 [==============================] - 0s - loss: 2.5019e-04     \n",
      "Epoch 138/200\n",
      "1257/1257 [==============================] - 0s - loss: 2.4846e-04     \n",
      "Epoch 139/200\n",
      "1257/1257 [==============================] - 0s - loss: 2.4768e-04     \n",
      "Epoch 140/200\n",
      "1257/1257 [==============================] - 0s - loss: 2.4753e-04     \n",
      "Epoch 141/200\n",
      "1257/1257 [==============================] - 0s - loss: 2.5044e-04     \n",
      "Epoch 142/200\n",
      "1257/1257 [==============================] - 0s - loss: 2.4967e-04     \n",
      "Epoch 143/200\n",
      "1257/1257 [==============================] - 0s - loss: 2.4789e-04     \n",
      "Epoch 144/200\n",
      "1257/1257 [==============================] - 0s - loss: 2.4688e-04     \n",
      "Epoch 145/200\n",
      "1257/1257 [==============================] - 0s - loss: 2.4685e-04     \n",
      "Epoch 146/200\n",
      "1257/1257 [==============================] - 0s - loss: 2.4737e-04     \n",
      "Epoch 147/200\n",
      "1257/1257 [==============================] - 0s - loss: 2.5203e-04     \n",
      "Epoch 148/200\n",
      "1257/1257 [==============================] - 0s - loss: 2.4770e-04     \n",
      "Epoch 149/200\n",
      "1257/1257 [==============================] - 0s - loss: 2.5078e-04     \n",
      "Epoch 150/200\n",
      "1257/1257 [==============================] - 0s - loss: 2.4847e-04     \n",
      "Epoch 151/200\n",
      "1257/1257 [==============================] - 0s - loss: 2.5080e-04     \n",
      "Epoch 152/200\n",
      "1257/1257 [==============================] - 0s - loss: 2.5356e-04     \n",
      "Epoch 153/200\n",
      "1257/1257 [==============================] - 0s - loss: 2.4730e-04     \n",
      "Epoch 154/200\n",
      "1257/1257 [==============================] - 0s - loss: 2.4615e-04     \n",
      "Epoch 155/200\n",
      "1257/1257 [==============================] - 0s - loss: 2.4693e-04     \n",
      "Epoch 156/200\n",
      "1257/1257 [==============================] - 0s - loss: 2.4720e-04     \n",
      "Epoch 157/200\n",
      "1257/1257 [==============================] - 0s - loss: 2.4817e-04     \n",
      "Epoch 158/200\n",
      "1257/1257 [==============================] - 0s - loss: 2.4847e-04     \n",
      "Epoch 159/200\n",
      "1257/1257 [==============================] - 0s - loss: 2.5069e-04     \n",
      "Epoch 160/200\n",
      "1257/1257 [==============================] - 0s - loss: 2.4729e-04     \n",
      "Epoch 161/200\n",
      "1257/1257 [==============================] - 0s - loss: 2.4758e-04     \n",
      "Epoch 162/200\n",
      "1257/1257 [==============================] - 0s - loss: 2.4746e-04     \n",
      "Epoch 163/200\n",
      "1257/1257 [==============================] - 0s - loss: 2.4729e-04     \n",
      "Epoch 164/200\n",
      "1257/1257 [==============================] - 0s - loss: 2.5641e-04     \n",
      "Epoch 165/200\n",
      "1257/1257 [==============================] - 0s - loss: 2.4594e-04     \n",
      "Epoch 166/200\n",
      "1257/1257 [==============================] - 0s - loss: 2.4998e-04     \n",
      "Epoch 167/200\n",
      "1257/1257 [==============================] - 0s - loss: 2.4773e-04     \n",
      "Epoch 168/200\n",
      "1257/1257 [==============================] - 0s - loss: 2.5009e-04     \n",
      "Epoch 169/200\n",
      "1257/1257 [==============================] - 0s - loss: 2.5347e-04     \n",
      "Epoch 170/200\n",
      "1257/1257 [==============================] - 0s - loss: 2.4791e-04     \n",
      "Epoch 171/200\n",
      "1257/1257 [==============================] - 0s - loss: 2.4615e-04     \n",
      "Epoch 172/200\n",
      "1257/1257 [==============================] - 0s - loss: 2.4671e-04     \n",
      "Epoch 173/200\n",
      "1257/1257 [==============================] - 0s - loss: 2.4699e-04     \n",
      "Epoch 174/200\n",
      "1257/1257 [==============================] - 0s - loss: 2.4804e-04     \n",
      "Epoch 175/200\n",
      "1257/1257 [==============================] - 0s - loss: 2.5319e-04     \n",
      "Epoch 176/200\n",
      "1257/1257 [==============================] - 0s - loss: 2.4868e-04     \n",
      "Epoch 177/200\n",
      "1257/1257 [==============================] - 0s - loss: 2.4797e-04     \n",
      "Epoch 178/200\n",
      "1257/1257 [==============================] - 0s - loss: 2.4776e-04     \n",
      "Epoch 179/200\n",
      "1257/1257 [==============================] - 0s - loss: 2.4851e-04     \n",
      "Epoch 180/200\n",
      "1257/1257 [==============================] - 0s - loss: 2.4606e-04     \n",
      "Epoch 181/200\n",
      "1257/1257 [==============================] - 0s - loss: 2.4639e-04     \n",
      "Epoch 182/200\n",
      "1257/1257 [==============================] - 0s - loss: 2.4738e-04     \n",
      "Epoch 183/200\n",
      "1257/1257 [==============================] - 0s - loss: 2.4434e-04     \n",
      "Epoch 184/200\n",
      "1257/1257 [==============================] - 0s - loss: 2.4679e-04     \n",
      "Epoch 185/200\n",
      "1257/1257 [==============================] - 0s - loss: 2.5147e-04     \n",
      "Epoch 186/200\n",
      "1257/1257 [==============================] - 0s - loss: 2.4884e-04     \n",
      "Epoch 187/200\n",
      "1257/1257 [==============================] - 0s - loss: 2.5013e-04     \n",
      "Epoch 188/200\n",
      "1257/1257 [==============================] - 0s - loss: 2.5151e-04     \n",
      "Epoch 189/200\n",
      "1257/1257 [==============================] - 0s - loss: 2.4908e-04     \n",
      "Epoch 190/200\n",
      "1257/1257 [==============================] - 0s - loss: 2.4735e-04     \n",
      "Epoch 191/200\n",
      "1257/1257 [==============================] - 0s - loss: 2.4994e-04     \n",
      "Epoch 192/200\n",
      "1257/1257 [==============================] - 0s - loss: 2.4891e-04     \n",
      "Epoch 193/200\n",
      "1257/1257 [==============================] - 0s - loss: 2.5235e-04     \n",
      "Epoch 194/200\n"
     ]
    },
    {
     "name": "stdout",
     "output_type": "stream",
     "text": [
      "1257/1257 [==============================] - 0s - loss: 2.4982e-04     \n",
      "Epoch 195/200\n",
      "1257/1257 [==============================] - 0s - loss: 2.5150e-04     \n",
      "Epoch 196/200\n",
      "1257/1257 [==============================] - 0s - loss: 2.4747e-04     \n",
      "Epoch 197/200\n",
      "1257/1257 [==============================] - 0s - loss: 2.4777e-04     \n",
      "Epoch 198/200\n",
      "1257/1257 [==============================] - 0s - loss: 2.4758e-04     \n",
      "Epoch 199/200\n",
      "1257/1257 [==============================] - 0s - loss: 2.4766e-04     - ETA: 0s - loss: 2.4974e-0\n",
      "Epoch 200/200\n",
      "1257/1257 [==============================] - 0s - loss: 2.4699e-04     \n"
     ]
    },
    {
     "data": {
      "text/plain": [
       "<keras.callbacks.History at 0xb35dc10>"
      ]
     },
     "execution_count": 25,
     "metadata": {},
     "output_type": "execute_result"
    }
   ],
   "source": [
    "# Fitting the RNN to the Training set\n",
    "regressor.fit(X_train,y_train,batch_size=32,epochs=200)"
   ]
  },
  {
   "cell_type": "markdown",
   "metadata": {},
   "source": [
    "# Part 3 - Making the Predictions and Visualizing the results"
   ]
  },
  {
   "cell_type": "code",
   "execution_count": 26,
   "metadata": {
    "collapsed": true
   },
   "outputs": [],
   "source": [
    "# Getting the real stock price of 2017\n",
    "test_set=pd.read_csv('Google_Stock_Price_Test.csv')\n",
    "real_stock_price=test_set.iloc[:,1:2].values"
   ]
  },
  {
   "cell_type": "code",
   "execution_count": 27,
   "metadata": {
    "collapsed": true
   },
   "outputs": [],
   "source": [
    "inputs=real_stock_price\n",
    "inputs=sc.transform(inputs)\n",
    "inputs=np.reshape(inputs,(20,1,1))"
   ]
  },
  {
   "cell_type": "code",
   "execution_count": 28,
   "metadata": {
    "collapsed": true
   },
   "outputs": [],
   "source": [
    "predicted_stock_price=regressor.predict(inputs)"
   ]
  },
  {
   "cell_type": "code",
   "execution_count": 29,
   "metadata": {
    "collapsed": true
   },
   "outputs": [],
   "source": [
    "#apply inverse transformations to get the actual price\n",
    "predicted_stock_price=sc.inverse_transform(predicted_stock_price)"
   ]
  },
  {
   "cell_type": "code",
   "execution_count": 30,
   "metadata": {},
   "outputs": [
    {
     "data": {
      "image/png": "[encoded data removed]",
      "text/plain": [
       "<matplotlib.figure.Figure at 0xb57e390>"
      ]
     },
     "metadata": {},
     "output_type": "display_data"
    }
   ],
   "source": [
    "#visualizing the results\n",
    "plt.plot(real_stock_price,color='red',label='Real Google Stock Price')\n",
    "plt.plot(predicted_stock_price,color='blue',label='Predicted Google Stock Price')\n",
    "plt.title(\"Google Stock Price Prediction\")\n",
    "plt.xlabel(\"Time\")\n",
    "plt.ylabel(\"Google Stock Price\")\n",
    "plt.legend()\n",
    "plt.show()"
   ]
  },
  {
   "cell_type": "markdown",
   "metadata": {},
   "source": [
    "# Part 4 - Evaluating the RNN"
   ]
  },
  {
   "cell_type": "code",
   "execution_count": 40,
   "metadata": {},
   "outputs": [],
   "source": [
    "import math\n",
    "from sklearn.metrics import mean_squared_error"
   ]
  },
  {
   "cell_type": "code",
   "execution_count": 41,
   "metadata": {
    "collapsed": true
   },
   "outputs": [],
   "source": [
    "rmse=math.sqrt(mean_squared_error(real_stock_price,predicted_stock_price))"
   ]
  },
  {
   "cell_type": "code",
   "execution_count": 43,
   "metadata": {},
   "outputs": [
    {
     "data": {
      "text/plain": [
       "0.0013123032648494723"
      ]
     },
     "execution_count": 43,
     "metadata": {},
     "output_type": "execute_result"
    }
   ],
   "source": [
    "#percentage error\n",
    "#average price is around 800\n",
    "rmse/800"
   ]
  },
  {
   "cell_type": "code",
   "execution_count": null,
   "metadata": {
    "collapsed": true
   },
   "outputs": [],
   "source": []
  }
 ],
 "metadata": {
  "kernelspec": {
   "display_name": "Python 2",
   "language": "python",
   "name": "python2"
  },
  "language_info": {
   "codemirror_mode": {
    "name": "ipython",
    "version": 2
   },
   "file_extension": ".py",
   "mimetype": "text/x-python",
   "name": "python",
   "nbconvert_exporter": "python",
   "pygments_lexer": "ipython2",
   "version": "2.7.5"
  }
 },
 "nbformat": 4,
 "nbformat_minor": 2
}
