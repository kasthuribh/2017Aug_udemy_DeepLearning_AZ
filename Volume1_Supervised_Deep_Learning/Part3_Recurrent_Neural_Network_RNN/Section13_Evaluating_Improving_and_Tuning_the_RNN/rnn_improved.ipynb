{
 "cells": [
  {
   "cell_type": "markdown",
   "metadata": {},
   "source": [
    "# Part 1 - Data Processing"
   ]
  },
  {
   "cell_type": "code",
   "execution_count": 66,
   "metadata": {
    "collapsed": true
   },
   "outputs": [],
   "source": [
    "#import the libraries\n",
    "import numpy as np\n",
    "import matplotlib.pyplot as plt\n",
    "import pandas as pd"
   ]
  },
  {
   "cell_type": "code",
   "execution_count": 67,
   "metadata": {
    "collapsed": true
   },
   "outputs": [],
   "source": [
    "#Importing the training set\n",
    "training_set=pd.read_csv('Google_Stock_Price_Train.csv')"
   ]
  },
  {
   "cell_type": "code",
   "execution_count": 68,
   "metadata": {
    "collapsed": true
   },
   "outputs": [],
   "source": [
    "#we will be predicting the opening price\n",
    "#just read the column index 1, and since we need a matrix 1:2\n",
    "training_set=training_set.iloc[:,1:2].values"
   ]
  },
  {
   "cell_type": "code",
   "execution_count": 69,
   "metadata": {
    "collapsed": true
   },
   "outputs": [],
   "source": [
    "#Feature Scaling\n",
    "from sklearn.preprocessing import MinMaxScaler\n",
    "sc=MinMaxScaler()\n",
    "training_set_scaled=sc.fit_transform(training_set)"
   ]
  },
  {
   "cell_type": "code",
   "execution_count": 70,
   "metadata": {},
   "outputs": [],
   "source": [
    "# creating a data structure with 20 timesteps and t+1 output\n",
    "X_train=[]\n",
    "y_train=[]\n",
    "for i in range(20,1258):\n",
    "    X_train.append(training_set_scaled[i-20:i,0])\n",
    "    y_train.append(training_set_scaled[i,0])\n",
    "X_train,y_train=np.array(X_train),np.array(y_train)"
   ]
  },
  {
   "cell_type": "code",
   "execution_count": 71,
   "metadata": {
    "collapsed": true
   },
   "outputs": [],
   "source": [
    "X_train=np.reshape(X_train,(X_train.shape[0],X_train.shape[1],1))"
   ]
  },
  {
   "cell_type": "markdown",
   "metadata": {},
   "source": [
    "# Part 2 - Buidling the RNN"
   ]
  },
  {
   "cell_type": "code",
   "execution_count": 84,
   "metadata": {},
   "outputs": [],
   "source": [
    "# Importing libraries\n",
    "from keras.models import Sequential\n",
    "from keras.layers import Dense,LSTM"
   ]
  },
  {
   "cell_type": "code",
   "execution_count": 85,
   "metadata": {
    "collapsed": true
   },
   "outputs": [],
   "source": [
    "# Initialising the RNN\n",
    "regressor = Sequential()"
   ]
  },
  {
   "cell_type": "code",
   "execution_count": 86,
   "metadata": {},
   "outputs": [],
   "source": [
    "# Adding the input layer and the LSTM layer\n",
    "#units -> no of memory units\n",
    "#input_shape -> (timestep,no of features) , None= any timestap\n",
    "#if there is another LSTM layer after this, we need to set return_sequences=True\n",
    "# if the next layer is a fully connected layer remove it\n",
    "regressor.add(LSTM(units=3,input_shape= (None,1),activation='sigmoid'  ))"
   ]
  },
  {
   "cell_type": "code",
   "execution_count": 87,
   "metadata": {
    "collapsed": true
   },
   "outputs": [],
   "source": [
    "#adding the output layer\n",
    "regressor.add(Dense(units=1))"
   ]
  },
  {
   "cell_type": "code",
   "execution_count": 88,
   "metadata": {
    "collapsed": true
   },
   "outputs": [],
   "source": [
    "#compiling the RNN"
   ]
  },
  {
   "cell_type": "code",
   "execution_count": 89,
   "metadata": {
    "collapsed": true
   },
   "outputs": [],
   "source": [
    "#optimizer, most of the cases rmsprop is recommended with RNN\n",
    "#loss, eince we are performing a regression, mean squared error\n",
    "regressor.compile(optimizer='rmsprop', loss='mean_squared_error')"
   ]
  },
  {
   "cell_type": "code",
   "execution_count": 90,
   "metadata": {},
   "outputs": [
    {
     "name": "stdout",
     "output_type": "stream",
     "text": [
      "Epoch 1/200\n",
      "1238/1238 [==============================] - 0s - loss: 0.5699     \n",
      "Epoch 2/200\n",
      "1238/1238 [==============================] - 0s - loss: 0.4206     \n",
      "Epoch 3/200\n",
      "1238/1238 [==============================] - 0s - loss: 0.3031     \n",
      "Epoch 4/200\n",
      "1238/1238 [==============================] - 0s - loss: 0.2107     \n",
      "Epoch 5/200\n",
      "1238/1238 [==============================] - 0s - loss: 0.1407     \n",
      "Epoch 6/200\n",
      "1238/1238 [==============================] - 0s - loss: 0.0931     \n",
      "Epoch 7/200\n",
      "1238/1238 [==============================] - 0s - loss: 0.0664     \n",
      "Epoch 8/200\n",
      "1238/1238 [==============================] - 0s - loss: 0.0550     \n",
      "Epoch 9/200\n",
      "1238/1238 [==============================] - 0s - loss: 0.0502     \n",
      "Epoch 10/200\n",
      "1238/1238 [==============================] - 0s - loss: 0.0465     \n",
      "Epoch 11/200\n",
      "1238/1238 [==============================] - 0s - loss: 0.0428     \n",
      "Epoch 12/200\n",
      "1238/1238 [==============================] - 0s - loss: 0.0391     \n",
      "Epoch 13/200\n",
      "1238/1238 [==============================] - 0s - loss: 0.0351     \n",
      "Epoch 14/200\n",
      "1238/1238 [==============================] - 0s - loss: 0.0310     \n",
      "Epoch 15/200\n",
      "1238/1238 [==============================] - 0s - loss: 0.0268     \n",
      "Epoch 16/200\n",
      "1238/1238 [==============================] - 0s - loss: 0.0226     \n",
      "Epoch 17/200\n",
      "1238/1238 [==============================] - 0s - loss: 0.0183     \n",
      "Epoch 18/200\n",
      "1238/1238 [==============================] - 0s - loss: 0.0140     \n",
      "Epoch 19/200\n",
      "1238/1238 [==============================] - 0s - loss: 0.0100     \n",
      "Epoch 20/200\n",
      "1238/1238 [==============================] - 0s - loss: 0.0066     \n",
      "Epoch 21/200\n",
      "1238/1238 [==============================] - 0s - loss: 0.0038     \n",
      "Epoch 22/200\n",
      "1238/1238 [==============================] - 0s - loss: 0.0018     \n",
      "Epoch 23/200\n",
      "1238/1238 [==============================] - 0s - loss: 8.4001e-04     \n",
      "Epoch 24/200\n",
      "1238/1238 [==============================] - 0s - loss: 5.7740e-04     \n",
      "Epoch 25/200\n",
      "1238/1238 [==============================] - 0s - loss: 5.3635e-04     \n",
      "Epoch 26/200\n",
      "1238/1238 [==============================] - 0s - loss: 5.2722e-04     \n",
      "Epoch 27/200\n",
      "1238/1238 [==============================] - 0s - loss: 5.0800e-04     \n",
      "Epoch 28/200\n",
      "1238/1238 [==============================] - 0s - loss: 4.9887e-04     \n",
      "Epoch 29/200\n",
      "1238/1238 [==============================] - 0s - loss: 4.8044e-04     \n",
      "Epoch 30/200\n",
      "1238/1238 [==============================] - 0s - loss: 4.7596e-04     \n",
      "Epoch 31/200\n",
      "1238/1238 [==============================] - 0s - loss: 4.6160e-04     \n",
      "Epoch 32/200\n",
      "1238/1238 [==============================] - 0s - loss: 4.4817e-04     \n",
      "Epoch 33/200\n",
      "1238/1238 [==============================] - 0s - loss: 4.4388e-04     \n",
      "Epoch 34/200\n",
      "1238/1238 [==============================] - 0s - loss: 4.3624e-04     \n",
      "Epoch 35/200\n",
      "1238/1238 [==============================] - 0s - loss: 4.3357e-04     \n",
      "Epoch 36/200\n",
      "1238/1238 [==============================] - 0s - loss: 4.2464e-04     \n",
      "Epoch 37/200\n",
      "1238/1238 [==============================] - 0s - loss: 4.1944e-04     \n",
      "Epoch 38/200\n",
      "1238/1238 [==============================] - 0s - loss: 4.1443e-04     \n",
      "Epoch 39/200\n",
      "1238/1238 [==============================] - 0s - loss: 4.0239e-04     \n",
      "Epoch 40/200\n",
      "1238/1238 [==============================] - 0s - loss: 4.0844e-04     \n",
      "Epoch 41/200\n",
      "1238/1238 [==============================] - 0s - loss: 4.0365e-04     \n",
      "Epoch 42/200\n",
      "1238/1238 [==============================] - 0s - loss: 3.9570e-04     \n",
      "Epoch 43/200\n",
      "1238/1238 [==============================] - 0s - loss: 3.9319e-04     \n",
      "Epoch 44/200\n",
      "1238/1238 [==============================] - 0s - loss: 3.8959e-04     \n",
      "Epoch 45/200\n",
      "1238/1238 [==============================] - 0s - loss: 3.8984e-04     \n",
      "Epoch 46/200\n",
      "1238/1238 [==============================] - 0s - loss: 3.8217e-04     \n",
      "Epoch 47/200\n",
      "1238/1238 [==============================] - 0s - loss: 3.7870e-04     \n",
      "Epoch 48/200\n",
      "1238/1238 [==============================] - 0s - loss: 3.8456e-04     \n",
      "Epoch 49/200\n",
      "1238/1238 [==============================] - 0s - loss: 3.7585e-04     \n",
      "Epoch 50/200\n",
      "1238/1238 [==============================] - 0s - loss: 3.7828e-04     \n",
      "Epoch 51/200\n",
      "1238/1238 [==============================] - 0s - loss: 3.7357e-04     \n",
      "Epoch 52/200\n",
      "1238/1238 [==============================] - 0s - loss: 3.7126e-04     \n",
      "Epoch 53/200\n",
      "1238/1238 [==============================] - 0s - loss: 3.7265e-04     \n",
      "Epoch 54/200\n",
      "1238/1238 [==============================] - 0s - loss: 3.6882e-04     \n",
      "Epoch 55/200\n",
      "1238/1238 [==============================] - 0s - loss: 3.7053e-04     \n",
      "Epoch 56/200\n",
      "1238/1238 [==============================] - 0s - loss: 3.6412e-04     \n",
      "Epoch 57/200\n",
      "1238/1238 [==============================] - 0s - loss: 3.6697e-04     \n",
      "Epoch 58/200\n",
      "1238/1238 [==============================] - 0s - loss: 3.5992e-04     \n",
      "Epoch 59/200\n",
      "1238/1238 [==============================] - 0s - loss: 3.6764e-04     \n",
      "Epoch 60/200\n",
      "1238/1238 [==============================] - 0s - loss: 3.6348e-04     \n",
      "Epoch 61/200\n",
      "1238/1238 [==============================] - 0s - loss: 3.5975e-04     \n",
      "Epoch 62/200\n",
      "1238/1238 [==============================] - 0s - loss: 3.5976e-04     \n",
      "Epoch 63/200\n",
      "1238/1238 [==============================] - 0s - loss: 3.5926e-04     \n",
      "Epoch 64/200\n",
      "1238/1238 [==============================] - 0s - loss: 3.5574e-04     \n",
      "Epoch 65/200\n",
      "1238/1238 [==============================] - 0s - loss: 3.5445e-04     \n",
      "Epoch 66/200\n",
      "1238/1238 [==============================] - 0s - loss: 3.5445e-04     \n",
      "Epoch 67/200\n",
      "1238/1238 [==============================] - 0s - loss: 3.5156e-04     \n",
      "Epoch 68/200\n",
      "1238/1238 [==============================] - 0s - loss: 3.5092e-04     \n",
      "Epoch 69/200\n",
      "1238/1238 [==============================] - 0s - loss: 3.5307e-04     \n",
      "Epoch 70/200\n",
      "1238/1238 [==============================] - 0s - loss: 3.4525e-04     \n",
      "Epoch 71/200\n",
      "1238/1238 [==============================] - 0s - loss: 3.4773e-04     \n",
      "Epoch 72/200\n",
      "1238/1238 [==============================] - 0s - loss: 3.4985e-04     \n",
      "Epoch 73/200\n",
      "1238/1238 [==============================] - 0s - loss: 3.4941e-04     \n",
      "Epoch 74/200\n",
      "1238/1238 [==============================] - 0s - loss: 3.4498e-04     \n",
      "Epoch 75/200\n",
      "1238/1238 [==============================] - 0s - loss: 3.4969e-04     \n",
      "Epoch 76/200\n",
      "1238/1238 [==============================] - 0s - loss: 3.4880e-04     \n",
      "Epoch 77/200\n",
      "1238/1238 [==============================] - 0s - loss: 3.4574e-04     \n",
      "Epoch 78/200\n",
      "1238/1238 [==============================] - 0s - loss: 3.4879e-04     \n",
      "Epoch 79/200\n",
      "1238/1238 [==============================] - 0s - loss: 3.4847e-04     \n",
      "Epoch 80/200\n",
      "1238/1238 [==============================] - 0s - loss: 3.4076e-04     \n",
      "Epoch 81/200\n",
      "1238/1238 [==============================] - 0s - loss: 3.4172e-04     \n",
      "Epoch 82/200\n",
      "1238/1238 [==============================] - 0s - loss: 3.4467e-04     \n",
      "Epoch 83/200\n",
      "1238/1238 [==============================] - 0s - loss: 3.3976e-04     \n",
      "Epoch 84/200\n",
      "1238/1238 [==============================] - 0s - loss: 3.4137e-04     \n",
      "Epoch 85/200\n",
      "1238/1238 [==============================] - 0s - loss: 3.3955e-04     \n",
      "Epoch 86/200\n",
      "1238/1238 [==============================] - 0s - loss: 3.4112e-04     \n",
      "Epoch 87/200\n",
      "1238/1238 [==============================] - 0s - loss: 3.4331e-04     \n",
      "Epoch 88/200\n",
      "1238/1238 [==============================] - 0s - loss: 3.3615e-04     \n",
      "Epoch 89/200\n",
      "1238/1238 [==============================] - 0s - loss: 3.3798e-04     \n",
      "Epoch 90/200\n",
      "1238/1238 [==============================] - 0s - loss: 3.4083e-04     \n",
      "Epoch 91/200\n",
      "1238/1238 [==============================] - 0s - loss: 3.3295e-04     \n",
      "Epoch 92/200\n",
      "1238/1238 [==============================] - 0s - loss: 3.3555e-04     \n",
      "Epoch 93/200\n",
      "1238/1238 [==============================] - 0s - loss: 3.3601e-04     \n",
      "Epoch 94/200\n",
      "1238/1238 [==============================] - 0s - loss: 3.3633e-04     \n",
      "Epoch 95/200\n",
      "1238/1238 [==============================] - 0s - loss: 3.3391e-04     \n",
      "Epoch 96/200\n",
      "1238/1238 [==============================] - 0s - loss: 3.3608e-04     \n",
      "Epoch 97/200\n",
      "1238/1238 [==============================] - 0s - loss: 3.3547e-04     \n",
      "Epoch 98/200\n"
     ]
    },
    {
     "name": "stdout",
     "output_type": "stream",
     "text": [
      "1238/1238 [==============================] - 0s - loss: 3.3056e-04     \n",
      "Epoch 99/200\n",
      "1238/1238 [==============================] - 0s - loss: 3.3490e-04     \n",
      "Epoch 100/200\n",
      "1238/1238 [==============================] - 0s - loss: 3.2831e-04     \n",
      "Epoch 101/200\n",
      "1238/1238 [==============================] - 0s - loss: 3.2835e-04     \n",
      "Epoch 102/200\n",
      "1238/1238 [==============================] - 0s - loss: 3.2881e-04     \n",
      "Epoch 103/200\n",
      "1238/1238 [==============================] - 0s - loss: 3.2996e-04     \n",
      "Epoch 104/200\n",
      "1238/1238 [==============================] - 0s - loss: 3.2954e-04     \n",
      "Epoch 105/200\n",
      "1238/1238 [==============================] - 0s - loss: 3.2744e-04     \n",
      "Epoch 106/200\n",
      "1238/1238 [==============================] - 0s - loss: 3.2469e-04     \n",
      "Epoch 107/200\n",
      "1238/1238 [==============================] - 0s - loss: 3.2776e-04     \n",
      "Epoch 108/200\n",
      "1238/1238 [==============================] - 0s - loss: 3.2629e-04     \n",
      "Epoch 109/200\n",
      "1238/1238 [==============================] - 0s - loss: 3.2330e-04     \n",
      "Epoch 110/200\n",
      "1238/1238 [==============================] - 0s - loss: 3.2553e-04     \n",
      "Epoch 111/200\n",
      "1238/1238 [==============================] - 0s - loss: 3.2471e-04     \n",
      "Epoch 112/200\n",
      "1238/1238 [==============================] - 0s - loss: 3.2595e-04     \n",
      "Epoch 113/200\n",
      "1238/1238 [==============================] - 0s - loss: 3.2749e-04     \n",
      "Epoch 114/200\n",
      "1238/1238 [==============================] - 0s - loss: 3.2112e-04     \n",
      "Epoch 115/200\n",
      "1238/1238 [==============================] - 0s - loss: 3.2472e-04     \n",
      "Epoch 116/200\n",
      "1238/1238 [==============================] - 0s - loss: 3.2111e-04     \n",
      "Epoch 117/200\n",
      "1238/1238 [==============================] - 0s - loss: 3.2813e-04     \n",
      "Epoch 118/200\n",
      "1238/1238 [==============================] - 0s - loss: 3.2108e-04     \n",
      "Epoch 119/200\n",
      "1238/1238 [==============================] - 0s - loss: 3.2318e-04     \n",
      "Epoch 120/200\n",
      "1238/1238 [==============================] - 0s - loss: 3.1474e-04     \n",
      "Epoch 121/200\n",
      "1238/1238 [==============================] - 0s - loss: 3.2460e-04     \n",
      "Epoch 122/200\n",
      "1238/1238 [==============================] - 0s - loss: 3.1672e-04     \n",
      "Epoch 123/200\n",
      "1238/1238 [==============================] - 0s - loss: 3.2053e-04     \n",
      "Epoch 124/200\n",
      "1238/1238 [==============================] - 0s - loss: 3.1978e-04     \n",
      "Epoch 125/200\n",
      "1238/1238 [==============================] - 0s - loss: 3.1673e-04     \n",
      "Epoch 126/200\n",
      "1238/1238 [==============================] - 0s - loss: 3.2007e-04     - ETA: 0s - loss: 3.\n",
      "Epoch 127/200\n",
      "1238/1238 [==============================] - 0s - loss: 3.1962e-04     \n",
      "Epoch 128/200\n",
      "1238/1238 [==============================] - 0s - loss: 3.1324e-04     \n",
      "Epoch 129/200\n",
      "1238/1238 [==============================] - 0s - loss: 3.1662e-04     \n",
      "Epoch 130/200\n",
      "1238/1238 [==============================] - 0s - loss: 3.1281e-04     \n",
      "Epoch 131/200\n",
      "1238/1238 [==============================] - 0s - loss: 3.1736e-04     \n",
      "Epoch 132/200\n",
      "1238/1238 [==============================] - 0s - loss: 3.1378e-04     \n",
      "Epoch 133/200\n",
      "1238/1238 [==============================] - 0s - loss: 3.1573e-04     \n",
      "Epoch 134/200\n",
      "1238/1238 [==============================] - 0s - loss: 3.1488e-04     \n",
      "Epoch 135/200\n",
      "1238/1238 [==============================] - 0s - loss: 3.1359e-04     \n",
      "Epoch 136/200\n",
      "1238/1238 [==============================] - 0s - loss: 3.1573e-04     \n",
      "Epoch 137/200\n",
      "1238/1238 [==============================] - 0s - loss: 3.1340e-04     \n",
      "Epoch 138/200\n",
      "1238/1238 [==============================] - 0s - loss: 3.1423e-04     \n",
      "Epoch 139/200\n",
      "1238/1238 [==============================] - 0s - loss: 3.1290e-04     \n",
      "Epoch 140/200\n",
      "1238/1238 [==============================] - 0s - loss: 3.1025e-04     \n",
      "Epoch 141/200\n",
      "1238/1238 [==============================] - 0s - loss: 3.0814e-04     \n",
      "Epoch 142/200\n",
      "1238/1238 [==============================] - 0s - loss: 3.1112e-04     \n",
      "Epoch 143/200\n",
      "1238/1238 [==============================] - 0s - loss: 3.1270e-04     \n",
      "Epoch 144/200\n",
      "1238/1238 [==============================] - 0s - loss: 3.1044e-04     \n",
      "Epoch 145/200\n",
      "1238/1238 [==============================] - 0s - loss: 3.0828e-04     \n",
      "Epoch 146/200\n",
      "1238/1238 [==============================] - 0s - loss: 3.1167e-04     \n",
      "Epoch 147/200\n",
      "1238/1238 [==============================] - 0s - loss: 3.0734e-04     \n",
      "Epoch 148/200\n",
      "1238/1238 [==============================] - 0s - loss: 3.1133e-04     \n",
      "Epoch 149/200\n",
      "1238/1238 [==============================] - 0s - loss: 3.1009e-04     \n",
      "Epoch 150/200\n",
      "1238/1238 [==============================] - 0s - loss: 3.0736e-04     \n",
      "Epoch 151/200\n",
      "1238/1238 [==============================] - 0s - loss: 3.0826e-04     \n",
      "Epoch 152/200\n",
      "1238/1238 [==============================] - 0s - loss: 3.0528e-04     \n",
      "Epoch 153/200\n",
      "1238/1238 [==============================] - 0s - loss: 3.0639e-04     \n",
      "Epoch 154/200\n",
      "1238/1238 [==============================] - 0s - loss: 3.0675e-04     \n",
      "Epoch 155/200\n",
      "1238/1238 [==============================] - 0s - loss: 3.0494e-04     \n",
      "Epoch 156/200\n",
      "1238/1238 [==============================] - 0s - loss: 3.0135e-04     \n",
      "Epoch 157/200\n",
      "1238/1238 [==============================] - 0s - loss: 3.0262e-04     \n",
      "Epoch 158/200\n",
      "1238/1238 [==============================] - 0s - loss: 3.0931e-04     \n",
      "Epoch 159/200\n",
      "1238/1238 [==============================] - 0s - loss: 3.0512e-04     \n",
      "Epoch 160/200\n",
      "1238/1238 [==============================] - 0s - loss: 3.0740e-04     \n",
      "Epoch 161/200\n",
      "1238/1238 [==============================] - 0s - loss: 3.0208e-04     \n",
      "Epoch 162/200\n",
      "1238/1238 [==============================] - 0s - loss: 3.0468e-04     \n",
      "Epoch 163/200\n",
      "1238/1238 [==============================] - 0s - loss: 3.0498e-04     \n",
      "Epoch 164/200\n",
      "1238/1238 [==============================] - 0s - loss: 3.0517e-04     \n",
      "Epoch 165/200\n",
      "1238/1238 [==============================] - 0s - loss: 3.0188e-04     \n",
      "Epoch 166/200\n",
      "1238/1238 [==============================] - 0s - loss: 3.0442e-04     \n",
      "Epoch 167/200\n",
      "1238/1238 [==============================] - 0s - loss: 3.0429e-04     \n",
      "Epoch 168/200\n",
      "1238/1238 [==============================] - 0s - loss: 2.9777e-04     \n",
      "Epoch 169/200\n",
      "1238/1238 [==============================] - 0s - loss: 3.0124e-04     \n",
      "Epoch 170/200\n",
      "1238/1238 [==============================] - 0s - loss: 3.0232e-04     \n",
      "Epoch 171/200\n",
      "1238/1238 [==============================] - 0s - loss: 2.9982e-04     \n",
      "Epoch 172/200\n",
      "1238/1238 [==============================] - 0s - loss: 3.0051e-04     \n",
      "Epoch 173/200\n",
      "1238/1238 [==============================] - 0s - loss: 2.9986e-04     \n",
      "Epoch 174/200\n",
      "1238/1238 [==============================] - 0s - loss: 2.9954e-04     \n",
      "Epoch 175/200\n",
      "1238/1238 [==============================] - 0s - loss: 3.0373e-04     \n",
      "Epoch 176/200\n",
      "1238/1238 [==============================] - 0s - loss: 2.9698e-04     \n",
      "Epoch 177/200\n",
      "1238/1238 [==============================] - 0s - loss: 2.9828e-04     \n",
      "Epoch 178/200\n",
      "1238/1238 [==============================] - 0s - loss: 2.9741e-04     \n",
      "Epoch 179/200\n",
      "1238/1238 [==============================] - 0s - loss: 2.9982e-04     \n",
      "Epoch 180/200\n",
      "1238/1238 [==============================] - 0s - loss: 2.9526e-04     \n",
      "Epoch 181/200\n",
      "1238/1238 [==============================] - 0s - loss: 2.9516e-04     \n",
      "Epoch 182/200\n",
      "1238/1238 [==============================] - 0s - loss: 2.9859e-04     \n",
      "Epoch 183/200\n",
      "1238/1238 [==============================] - 0s - loss: 2.9774e-04     \n",
      "Epoch 184/200\n",
      "1238/1238 [==============================] - 0s - loss: 2.9890e-04     \n",
      "Epoch 185/200\n",
      "1238/1238 [==============================] - 0s - loss: 2.9471e-04     \n",
      "Epoch 186/200\n",
      "1238/1238 [==============================] - 0s - loss: 2.9422e-04     \n",
      "Epoch 187/200\n",
      "1238/1238 [==============================] - 0s - loss: 2.9407e-04     \n",
      "Epoch 188/200\n",
      "1238/1238 [==============================] - 0s - loss: 3.0106e-04     \n",
      "Epoch 189/200\n",
      "1238/1238 [==============================] - 0s - loss: 2.8933e-04     \n",
      "Epoch 190/200\n",
      "1238/1238 [==============================] - 0s - loss: 2.9584e-04     \n",
      "Epoch 191/200\n",
      "1238/1238 [==============================] - 0s - loss: 2.9195e-04     \n",
      "Epoch 192/200\n",
      "1238/1238 [==============================] - 0s - loss: 2.9169e-04     \n",
      "Epoch 193/200\n"
     ]
    },
    {
     "name": "stdout",
     "output_type": "stream",
     "text": [
      "1238/1238 [==============================] - 0s - loss: 2.9543e-04     \n",
      "Epoch 194/200\n",
      "1238/1238 [==============================] - 0s - loss: 2.8865e-04     \n",
      "Epoch 195/200\n",
      "1238/1238 [==============================] - 0s - loss: 2.9339e-04     \n",
      "Epoch 196/200\n",
      "1238/1238 [==============================] - 0s - loss: 2.9189e-04     \n",
      "Epoch 197/200\n",
      "1238/1238 [==============================] - 0s - loss: 2.9126e-04     \n",
      "Epoch 198/200\n",
      "1238/1238 [==============================] - 0s - loss: 2.9341e-04     \n",
      "Epoch 199/200\n",
      "1238/1238 [==============================] - 0s - loss: 2.8856e-04     \n",
      "Epoch 200/200\n",
      "1238/1238 [==============================] - 0s - loss: 2.9381e-04     \n"
     ]
    },
    {
     "data": {
      "text/plain": [
       "<keras.callbacks.History at 0x11bcf750>"
      ]
     },
     "execution_count": 90,
     "metadata": {},
     "output_type": "execute_result"
    }
   ],
   "source": [
    "# Fitting the RNN to the Training set\n",
    "regressor.fit(X_train,y_train,batch_size=32,epochs=200)"
   ]
  },
  {
   "cell_type": "markdown",
   "metadata": {},
   "source": [
    "# Part 3 - Making the Predictions and Visualizing the results"
   ]
  },
  {
   "cell_type": "code",
   "execution_count": 91,
   "metadata": {
    "collapsed": true
   },
   "outputs": [],
   "source": [
    "# Getting the real stock price of 2017\n",
    "test_set=pd.read_csv('Google_Stock_Price_Test.csv')\n",
    "test_set=test_set.iloc[:,1:2].values"
   ]
  },
  {
   "cell_type": "code",
   "execution_count": 92,
   "metadata": {
    "collapsed": true
   },
   "outputs": [],
   "source": [
    "real_stock_price=np.concatenate((training_set[0:1258],test_set), axis=0)\n",
    "scaled_real_stock_price=sc.fit_transform(real_stock_price)"
   ]
  },
  {
   "cell_type": "code",
   "execution_count": 93,
   "metadata": {
    "collapsed": true
   },
   "outputs": [],
   "source": [
    "# creating a data structure with 20 timesteps and t+1 output\n",
    "inputs=[]\n",
    "for i in range(1258,1278):\n",
    "    inputs.append(scaled_real_stock_price[i-20:i,0])\n",
    "inputs=np.array(inputs)\n",
    "inputs=np.reshape(inputs,(inputs.shape[0],inputs.shape[1],1))"
   ]
  },
  {
   "cell_type": "code",
   "execution_count": 94,
   "metadata": {
    "collapsed": true
   },
   "outputs": [],
   "source": [
    "predicted_stock_price=regressor.predict(inputs)"
   ]
  },
  {
   "cell_type": "code",
   "execution_count": 95,
   "metadata": {
    "collapsed": true
   },
   "outputs": [],
   "source": [
    "#apply inverse transformations to get the actual price\n",
    "predicted_stock_price=sc.inverse_transform(predicted_stock_price)"
   ]
  },
  {
   "cell_type": "code",
   "execution_count": 96,
   "metadata": {},
   "outputs": [
    {
     "data": {
      "image/png": "[encoded data removed]",
      "text/plain": [
       "<matplotlib.figure.Figure at 0x11d05cd0>"
      ]
     },
     "metadata": {},
     "output_type": "display_data"
    }
   ],
   "source": [
    "#visualizing the results\n",
    "plt.plot(real_stock_price[1258:],color='red',label='Real Google Stock Price')\n",
    "plt.plot(predicted_stock_price,color='blue',label='Predicted Google Stock Price')\n",
    "plt.title(\"Google Stock Price Prediction\")\n",
    "plt.xlabel(\"Time\")\n",
    "plt.ylabel(\"Google Stock Price\")\n",
    "plt.legend()\n",
    "plt.show()"
   ]
  },
  {
   "cell_type": "markdown",
   "metadata": {},
   "source": [
    "# Part 4 - Evaluating the RNN"
   ]
  },
  {
   "cell_type": "code",
   "execution_count": 62,
   "metadata": {
    "collapsed": true
   },
   "outputs": [],
   "source": [
    "import math\n",
    "from sklearn.metrics import mean_squared_error"
   ]
  },
  {
   "cell_type": "code",
   "execution_count": 64,
   "metadata": {},
   "outputs": [],
   "source": [
    "rmse=math.sqrt(mean_squared_error(real_stock_price[1258:],predicted_stock_price))"
   ]
  },
  {
   "cell_type": "code",
   "execution_count": 65,
   "metadata": {},
   "outputs": [
    {
     "data": {
      "text/plain": [
       "0.26328856356533403"
      ]
     },
     "execution_count": 65,
     "metadata": {},
     "output_type": "execute_result"
    }
   ],
   "source": [
    "#percentage error\n",
    "#average price is around 800\n",
    "rmse/800"
   ]
  },
  {
   "cell_type": "code",
   "execution_count": null,
   "metadata": {
    "collapsed": true
   },
   "outputs": [],
   "source": []
  }
 ],
 "metadata": {
  "kernelspec": {
   "display_name": "Python 2",
   "language": "python",
   "name": "python2"
  },
  "language_info": {
   "codemirror_mode": {
    "name": "ipython",
    "version": 2
   },
   "file_extension": ".py",
   "mimetype": "text/x-python",
   "name": "python",
   "nbconvert_exporter": "python",
   "pygments_lexer": "ipython2",
   "version": "2.7.5"
  }
 },
 "nbformat": 4,
 "nbformat_minor": 2
}
